{
 "cells": [
  {
   "cell_type": "code",
   "execution_count": 1,
   "metadata": {},
   "outputs": [],
   "source": [
    "import os"
   ]
  },
  {
   "cell_type": "code",
   "execution_count": 2,
   "metadata": {},
   "outputs": [
    {
     "output_type": "execute_result",
     "data": {
      "text/plain": [
       "'/home/jale/Documents/hydra'"
      ]
     },
     "metadata": {},
     "execution_count": 2
    }
   ],
   "source": [
    "os.getcwd()"
   ]
  },
  {
   "cell_type": "code",
   "execution_count": 3,
   "metadata": {},
   "outputs": [
    {
     "output_type": "stream",
     "name": "stdout",
     "text": [
      "importing local settings\n",
      "/home/jale/miniconda3/envs/hydra/lib/python3.7/site-packages/torch/cuda/__init__.py:52: UserWarning: CUDA initialization: Found no NVIDIA driver on your system. Please check that you have an NVIDIA GPU and installed a driver from http://www.nvidia.com/Download/index.aspx (Triggered internally at  /opt/conda/conda-bld/pytorch_1603729047590/work/c10/cuda/CUDAFunctions.cpp:100.)\n",
      "  return torch._C._cuda_getDeviceCount() > 0\n"
     ]
    }
   ],
   "source": [
    "import pandas, numpy\n",
    "from runners.novelty_experiment_runner_sb import NoveltyExperimentRunnerSB\n",
    "from os import path\n",
    "import settings\n",
    "from runners import constants\n",
    "import seaborn as sns\n",
    "import matplotlib.pyplot as plt"
   ]
  },
  {
   "cell_type": "markdown",
   "metadata": {},
   "source": [
    "# Novelty experiment "
   ]
  },
  {
   "cell_type": "code",
   "execution_count": 4,
   "metadata": {},
   "outputs": [],
   "source": [
    "results_file_2 = open(path.join(settings.ROOT_PATH, \"runners\", \"experiments\", \"ScienceBirds\", \"SB_experiment\", \"novelty_results_2021_6_9.csv\"), \"r\")\n",
    "dataframe2 = NoveltyExperimentRunnerSB.categorize_examples_for_novelty_detection(pandas.read_csv(results_file_2))\n"
   ]
  },
  {
   "cell_type": "code",
   "execution_count": 5,
   "metadata": {},
   "outputs": [],
   "source": [
    "results_file_3 = open(path.join(settings.ROOT_PATH, \"runners\", \"experiments\", \"ScienceBirds\", \"SB_experiment\", \"baseline_performance.csv\"), \"r\")\n",
    "\n",
    "dataframe3 = NoveltyExperimentRunnerSB.categorize_examples_for_novelty_detection(pandas.read_csv(results_file_3))"
   ]
  },
  {
   "cell_type": "code",
   "execution_count": 6,
   "metadata": {},
   "outputs": [
    {
     "output_type": "execute_result",
     "data": {
      "text/plain": [
       "     episode_num  novelty_probability  novelty_threshold  novelty  \\\n",
       "0              0                    0                  1        0   \n",
       "1              1                    0                  1        0   \n",
       "2              2                    0                  1        0   \n",
       "3              3                    0                  1        0   \n",
       "4              4                    0                  1        0   \n",
       "..           ...                  ...                ...      ...   \n",
       "595           20                    0                  1        0   \n",
       "596           21                    0                  1        0   \n",
       "597           22                    0                  1        0   \n",
       "598           23                    0                  1        0   \n",
       "599           24                    0                  1        0   \n",
       "\n",
       "     novelty_characterization  performance  notify_novelty  pass  \\\n",
       "0                           0        54240           False  Fail   \n",
       "1                           0       103320           False  Pass   \n",
       "2                           0        19420           False  Fail   \n",
       "3                           0        35090           False  Fail   \n",
       "4                           0        34000           False  Fail   \n",
       "..                        ...          ...             ...   ...   \n",
       "595                         0            0           False  Fail   \n",
       "596                         0            0           False  Fail   \n",
       "597                         0            0           False  Fail   \n",
       "598                         0            0           False  Fail   \n",
       "599                         0            0           False  Fail   \n",
       "\n",
       "                episode_type  trial_num novelty_id trial_type  level  \\\n",
       "0    non-novelty-performance          0      1_6_0    unknown      1   \n",
       "1    non-novelty-performance          0      1_6_0    unknown      1   \n",
       "2    non-novelty-performance          0      1_6_0    unknown      1   \n",
       "3    non-novelty-performance          0      1_6_0    unknown      1   \n",
       "4    non-novelty-performance          0      1_6_0    unknown      1   \n",
       "..                       ...        ...        ...        ...    ...   \n",
       "595                  novelty         23     3_7_23      known      3   \n",
       "596                  novelty         23     3_7_23      known      3   \n",
       "597                  novelty         23     3_7_23      known      3   \n",
       "598                  novelty         23     3_7_23      known      3   \n",
       "599                  novelty         23     3_7_23      known      3   \n",
       "\n",
       "     predicted_novel  TN  FP  TP  FN  \n",
       "0              False   1   0   0   0  \n",
       "1              False   1   0   0   0  \n",
       "2              False   1   0   0   0  \n",
       "3              False   1   0   0   0  \n",
       "4              False   1   0   0   0  \n",
       "..               ...  ..  ..  ..  ..  \n",
       "595            False   0   0   0   1  \n",
       "596            False   0   0   0   1  \n",
       "597            False   0   0   0   1  \n",
       "598            False   0   0   0   1  \n",
       "599            False   0   0   0   1  \n",
       "\n",
       "[600 rows x 18 columns]"
      ],
      "text/html": "<div>\n<style scoped>\n    .dataframe tbody tr th:only-of-type {\n        vertical-align: middle;\n    }\n\n    .dataframe tbody tr th {\n        vertical-align: top;\n    }\n\n    .dataframe thead th {\n        text-align: right;\n    }\n</style>\n<table border=\"1\" class=\"dataframe\">\n  <thead>\n    <tr style=\"text-align: right;\">\n      <th></th>\n      <th>episode_num</th>\n      <th>novelty_probability</th>\n      <th>novelty_threshold</th>\n      <th>novelty</th>\n      <th>novelty_characterization</th>\n      <th>performance</th>\n      <th>notify_novelty</th>\n      <th>pass</th>\n      <th>episode_type</th>\n      <th>trial_num</th>\n      <th>novelty_id</th>\n      <th>trial_type</th>\n      <th>level</th>\n      <th>predicted_novel</th>\n      <th>TN</th>\n      <th>FP</th>\n      <th>TP</th>\n      <th>FN</th>\n    </tr>\n  </thead>\n  <tbody>\n    <tr>\n      <th>0</th>\n      <td>0</td>\n      <td>0</td>\n      <td>1</td>\n      <td>0</td>\n      <td>0</td>\n      <td>54240</td>\n      <td>False</td>\n      <td>Fail</td>\n      <td>non-novelty-performance</td>\n      <td>0</td>\n      <td>1_6_0</td>\n      <td>unknown</td>\n      <td>1</td>\n      <td>False</td>\n      <td>1</td>\n      <td>0</td>\n      <td>0</td>\n      <td>0</td>\n    </tr>\n    <tr>\n      <th>1</th>\n      <td>1</td>\n      <td>0</td>\n      <td>1</td>\n      <td>0</td>\n      <td>0</td>\n      <td>103320</td>\n      <td>False</td>\n      <td>Pass</td>\n      <td>non-novelty-performance</td>\n      <td>0</td>\n      <td>1_6_0</td>\n      <td>unknown</td>\n      <td>1</td>\n      <td>False</td>\n      <td>1</td>\n      <td>0</td>\n      <td>0</td>\n      <td>0</td>\n    </tr>\n    <tr>\n      <th>2</th>\n      <td>2</td>\n      <td>0</td>\n      <td>1</td>\n      <td>0</td>\n      <td>0</td>\n      <td>19420</td>\n      <td>False</td>\n      <td>Fail</td>\n      <td>non-novelty-performance</td>\n      <td>0</td>\n      <td>1_6_0</td>\n      <td>unknown</td>\n      <td>1</td>\n      <td>False</td>\n      <td>1</td>\n      <td>0</td>\n      <td>0</td>\n      <td>0</td>\n    </tr>\n    <tr>\n      <th>3</th>\n      <td>3</td>\n      <td>0</td>\n      <td>1</td>\n      <td>0</td>\n      <td>0</td>\n      <td>35090</td>\n      <td>False</td>\n      <td>Fail</td>\n      <td>non-novelty-performance</td>\n      <td>0</td>\n      <td>1_6_0</td>\n      <td>unknown</td>\n      <td>1</td>\n      <td>False</td>\n      <td>1</td>\n      <td>0</td>\n      <td>0</td>\n      <td>0</td>\n    </tr>\n    <tr>\n      <th>4</th>\n      <td>4</td>\n      <td>0</td>\n      <td>1</td>\n      <td>0</td>\n      <td>0</td>\n      <td>34000</td>\n      <td>False</td>\n      <td>Fail</td>\n      <td>non-novelty-performance</td>\n      <td>0</td>\n      <td>1_6_0</td>\n      <td>unknown</td>\n      <td>1</td>\n      <td>False</td>\n      <td>1</td>\n      <td>0</td>\n      <td>0</td>\n      <td>0</td>\n    </tr>\n    <tr>\n      <th>...</th>\n      <td>...</td>\n      <td>...</td>\n      <td>...</td>\n      <td>...</td>\n      <td>...</td>\n      <td>...</td>\n      <td>...</td>\n      <td>...</td>\n      <td>...</td>\n      <td>...</td>\n      <td>...</td>\n      <td>...</td>\n      <td>...</td>\n      <td>...</td>\n      <td>...</td>\n      <td>...</td>\n      <td>...</td>\n      <td>...</td>\n    </tr>\n    <tr>\n      <th>595</th>\n      <td>20</td>\n      <td>0</td>\n      <td>1</td>\n      <td>0</td>\n      <td>0</td>\n      <td>0</td>\n      <td>False</td>\n      <td>Fail</td>\n      <td>novelty</td>\n      <td>23</td>\n      <td>3_7_23</td>\n      <td>known</td>\n      <td>3</td>\n      <td>False</td>\n      <td>0</td>\n      <td>0</td>\n      <td>0</td>\n      <td>1</td>\n    </tr>\n    <tr>\n      <th>596</th>\n      <td>21</td>\n      <td>0</td>\n      <td>1</td>\n      <td>0</td>\n      <td>0</td>\n      <td>0</td>\n      <td>False</td>\n      <td>Fail</td>\n      <td>novelty</td>\n      <td>23</td>\n      <td>3_7_23</td>\n      <td>known</td>\n      <td>3</td>\n      <td>False</td>\n      <td>0</td>\n      <td>0</td>\n      <td>0</td>\n      <td>1</td>\n    </tr>\n    <tr>\n      <th>597</th>\n      <td>22</td>\n      <td>0</td>\n      <td>1</td>\n      <td>0</td>\n      <td>0</td>\n      <td>0</td>\n      <td>False</td>\n      <td>Fail</td>\n      <td>novelty</td>\n      <td>23</td>\n      <td>3_7_23</td>\n      <td>known</td>\n      <td>3</td>\n      <td>False</td>\n      <td>0</td>\n      <td>0</td>\n      <td>0</td>\n      <td>1</td>\n    </tr>\n    <tr>\n      <th>598</th>\n      <td>23</td>\n      <td>0</td>\n      <td>1</td>\n      <td>0</td>\n      <td>0</td>\n      <td>0</td>\n      <td>False</td>\n      <td>Fail</td>\n      <td>novelty</td>\n      <td>23</td>\n      <td>3_7_23</td>\n      <td>known</td>\n      <td>3</td>\n      <td>False</td>\n      <td>0</td>\n      <td>0</td>\n      <td>0</td>\n      <td>1</td>\n    </tr>\n    <tr>\n      <th>599</th>\n      <td>24</td>\n      <td>0</td>\n      <td>1</td>\n      <td>0</td>\n      <td>0</td>\n      <td>0</td>\n      <td>False</td>\n      <td>Fail</td>\n      <td>novelty</td>\n      <td>23</td>\n      <td>3_7_23</td>\n      <td>known</td>\n      <td>3</td>\n      <td>False</td>\n      <td>0</td>\n      <td>0</td>\n      <td>0</td>\n      <td>1</td>\n    </tr>\n  </tbody>\n</table>\n<p>600 rows × 18 columns</p>\n</div>"
     },
     "metadata": {},
     "execution_count": 6
    }
   ],
   "source": [
    "dataframe2"
   ]
  },
  {
   "cell_type": "code",
   "execution_count": 7,
   "metadata": {},
   "outputs": [
    {
     "output_type": "stream",
     "name": "stdout",
     "text": [
      "                                 FN  FP  TN  TP  performance  passed  is_CDT\n",
      "trial_type novelty_id trial_num                                             \n",
      "known      1_10_16    16          9   0   5  11      53462.4       6    True\n",
      "           1_6_12     12          1   0   5  19      34053.2       6    True\n",
      "           1_7_13     13          5   0   5  15      59996.4      12    True\n",
      "           1_8_14     14          3   0   5  17      44808.0       6    True\n",
      "           1_9_15     15          5   0   5  15      46884.0      14    True\n",
      "           2_10_21    21          1   0   5  19      40607.2       6    True\n",
      "           2_6_17     17          2   0   5  18      41564.0       6    True\n",
      "           2_7_18     18          9   0   5  11      46172.8       8    True\n",
      "           2_8_19     19         20   0   5   0      41615.2       5   False\n",
      "           2_9_20     20         10   0   5  10      36707.6       4    True\n",
      "           3_6_22     22         16   0   5   4      37022.0       9    True\n",
      "           3_7_23     23         20   0   5   0       5145.6       2   False\n",
      "unknown    1_10_4     4          20   0   5   0      48117.6       6   False\n",
      "           1_6_0      0           2   0   5  18      52037.2       8    True\n",
      "           1_7_1      1           5   0   5  15      54012.4       9    True\n",
      "           1_8_2      2           3   0   5  17      42768.0       9    True\n",
      "           1_9_3      3          14   0   5   6      37216.4      10    True\n",
      "           2_10_9     9           0   1   4  20      43059.2       9   False\n",
      "           2_6_5      5          20   0   5   0      41501.6      11   False\n",
      "           2_7_6      6          10   0   5  10      40469.2      11    True\n",
      "           2_8_7      7           0   3   2  20      37998.8       2   False\n",
      "           2_9_8      8           0   0   5  20      49859.2       7    True\n",
      "           3_6_10     10          8   0   5  12      36723.2       9    True\n",
      "           3_7_11     11         20   0   5   0      11733.2       3   False\n",
      "                                 FN  FP  TN  TP  performance  passed  is_CDT\n",
      "trial_type novelty_id trial_num                                             \n",
      "known      1_10_16    16          9   0   5  11      53462.4       6    True\n",
      "           1_6_12     12          1   0   5  19      34053.2       6    True\n",
      "           1_7_13     13          5   0   5  15      59996.4      12    True\n",
      "           1_8_14     14          3   0   5  17      44808.0       6    True\n",
      "           1_9_15     15          5   0   5  15      46884.0      14    True\n",
      "           2_10_21    21          1   0   5  19      40607.2       6    True\n",
      "           2_6_17     17          2   0   5  18      41564.0       6    True\n",
      "           2_7_18     18          9   0   5  11      46172.8       8    True\n",
      "           2_9_20     20         10   0   5  10      36707.6       4    True\n",
      "           3_6_22     22         16   0   5   4      37022.0       9    True\n",
      "unknown    1_6_0      0           2   0   5  18      52037.2       8    True\n",
      "           1_7_1      1           5   0   5  15      54012.4       9    True\n",
      "           1_8_2      2           3   0   5  17      42768.0       9    True\n",
      "           1_9_3      3          14   0   5   6      37216.4      10    True\n",
      "           2_7_6      6          10   0   5  10      40469.2      11    True\n",
      "           2_9_8      8           0   0   5  20      49859.2       7    True\n",
      "           3_6_10     10          8   0   5  12      36723.2       9    True\n",
      "/home/jale/Documents/hydra/runners/novelty_experiment_runner_sb.py:322: SettingWithCopyWarning: \n",
      "A value is trying to be set on a copy of a slice from a DataFrame.\n",
      "Try using .loc[row_indexer,col_indexer] = value instead\n",
      "\n",
      "See the caveats in the documentation: https://pandas.pydata.org/pandas-docs/stable/user_guide/indexing.html#returning-a-view-versus-a-copy\n",
      "  trials['passed'] = numpy.where(trials['pass'] == 'Pass', 1, 0)\n"
     ]
    }
   ],
   "source": [
    "trials,cdt = NoveltyExperimentRunnerSB.get_trials_summary(dataframe2)\n",
    "print(trials)\n",
    "print(cdt)"
   ]
  },
  {
   "cell_type": "code",
   "execution_count": 8,
   "metadata": {},
   "outputs": [
    {
     "output_type": "stream",
     "name": "stdout",
     "text": [
      "                                 FN  FP  TN  TP  performance  passed  is_CDT\n",
      "trial_type novelty_id trial_num                                             \n",
      "known      1_10_16    16         20   0   5   0      56623.2       9   False\n",
      "           1_6_12     12         20   0   5   0      49106.8       8   False\n",
      "           1_7_13     13         20   0   5   0      57386.8       7   False\n",
      "           1_8_14     14         20   0   5   0      44127.2       9   False\n",
      "           1_9_15     15         20   0   5   0      46349.6      11   False\n",
      "           2_10_21    21         20   0   5   0      38782.0       6   False\n",
      "           2_6_17     17         20   0   5   0      57654.8      14   False\n",
      "           2_7_18     18         20   0   5   0      34568.8       8   False\n",
      "           2_8_19     19         20   0   5   0      46986.0      10   False\n",
      "           2_9_20     20         20   0   5   0      54062.4      11   False\n",
      "           3_6_22     22         20   0   5   0      12262.8       2   False\n",
      "           3_7_23     23         20   0   5   0       8806.8       3   False\n",
      "unknown    1_10_4     4          20   0   5   0      52708.4       7   False\n",
      "           1_6_0      0          20   0   5   0      58817.6      13   False\n",
      "           1_7_1      1          20   0   5   0      54252.4      12   False\n",
      "           1_8_2      2          20   0   5   0      49692.4       9   False\n",
      "           1_9_3      3          20   0   5   0      31822.4      12   False\n",
      "           2_10_9     9          20   0   5   0      36392.0       7   False\n",
      "           2_6_5      5          20   0   5   0      41782.0      15   False\n",
      "           2_7_6      6          20   0   5   0      44752.8       6   False\n",
      "           2_8_7      7          20   0   5   0      48640.0       9   False\n",
      "           2_9_8      8          20   0   5   0      48939.6      12   False\n",
      "           3_6_10     10         20   0   5   0       7671.6       2   False\n",
      "           3_7_11     11         20   0   5   0       6744.8       1   False\n",
      "/home/jale/Documents/hydra/runners/novelty_experiment_runner_sb.py:322: SettingWithCopyWarning: \n",
      "A value is trying to be set on a copy of a slice from a DataFrame.\n",
      "Try using .loc[row_indexer,col_indexer] = value instead\n",
      "\n",
      "See the caveats in the documentation: https://pandas.pydata.org/pandas-docs/stable/user_guide/indexing.html#returning-a-view-versus-a-copy\n",
      "  trials['passed'] = numpy.where(trials['pass'] == 'Pass', 1, 0)\n"
     ]
    }
   ],
   "source": [
    "baseline_trials, baseline_cdt = NoveltyExperimentRunnerSB.get_trials_summary(dataframe3)\n",
    "\n",
    "print(baseline_trials)"
   ]
  },
  {
   "cell_type": "code",
   "execution_count": 9,
   "metadata": {
    "tags": []
   },
   "outputs": [
    {
     "output_type": "error",
     "ename": "KeyError",
     "evalue": "'episode_type'",
     "traceback": [
      "\u001b[0;31m---------------------------------------------------------------------------\u001b[0m",
      "\u001b[0;31mKeyError\u001b[0m                                  Traceback (most recent call last)",
      "\u001b[0;32m<ipython-input-9-88bc67a6d68c>\u001b[0m in \u001b[0;36m<module>\u001b[0;34m\u001b[0m\n\u001b[0;32m----> 1\u001b[0;31m \u001b[0mmetrics\u001b[0m\u001b[0;34m,\u001b[0m \u001b[0mperformance_metrics\u001b[0m \u001b[0;34m=\u001b[0m \u001b[0mNoveltyExperimentRunnerSB\u001b[0m\u001b[0;34m.\u001b[0m\u001b[0mget_program_metrics\u001b[0m\u001b[0;34m(\u001b[0m\u001b[0mcdt\u001b[0m\u001b[0;34m,\u001b[0m \u001b[0mtrials\u001b[0m\u001b[0;34m,\u001b[0m \u001b[0mdataframe3\u001b[0m\u001b[0;34m)\u001b[0m\u001b[0;34m\u001b[0m\u001b[0;34m\u001b[0m\u001b[0m\n\u001b[0m\u001b[1;32m      2\u001b[0m \u001b[0;34m\u001b[0m\u001b[0m\n\u001b[1;32m      3\u001b[0m \u001b[0mgrouped_trials\u001b[0m \u001b[0;34m=\u001b[0m \u001b[0mdataframe2\u001b[0m\u001b[0;34m[\u001b[0m\u001b[0;34m[\u001b[0m\u001b[0;34m'trial_num'\u001b[0m\u001b[0;34m,\u001b[0m \u001b[0;34m'trial_type'\u001b[0m\u001b[0;34m,\u001b[0m \u001b[0;34m'episode_type'\u001b[0m\u001b[0;34m,\u001b[0m \u001b[0;34m'performance'\u001b[0m\u001b[0;34m]\u001b[0m\u001b[0;34m]\u001b[0m\u001b[0;34m.\u001b[0m\u001b[0mgroupby\u001b[0m\u001b[0;34m(\u001b[0m\u001b[0;34m\"trial_num\"\u001b[0m\u001b[0;34m)\u001b[0m\u001b[0;34m\u001b[0m\u001b[0;34m\u001b[0m\u001b[0m\n\u001b[1;32m      4\u001b[0m \u001b[0mgrouped_base\u001b[0m \u001b[0;34m=\u001b[0m \u001b[0mdataframe3\u001b[0m\u001b[0;34m[\u001b[0m\u001b[0;34m[\u001b[0m\u001b[0;34m'trial_num'\u001b[0m\u001b[0;34m,\u001b[0m \u001b[0;34m'trial_type'\u001b[0m\u001b[0;34m,\u001b[0m \u001b[0;34m'episode_type'\u001b[0m\u001b[0;34m,\u001b[0m \u001b[0;34m'performance'\u001b[0m\u001b[0;34m]\u001b[0m\u001b[0;34m]\u001b[0m\u001b[0;34m.\u001b[0m\u001b[0mgroupby\u001b[0m\u001b[0;34m(\u001b[0m\u001b[0;34m\"trial_num\"\u001b[0m\u001b[0;34m)\u001b[0m\u001b[0;34m\u001b[0m\u001b[0;34m\u001b[0m\u001b[0m\n\u001b[1;32m      5\u001b[0m \u001b[0;34m\u001b[0m\u001b[0m\n",
      "\u001b[0;32m~/Documents/hydra/runners/novelty_experiment_runner_sb.py\u001b[0m in \u001b[0;36mget_program_metrics\u001b[0;34m(cdt, trials, baseline_trials)\u001b[0m\n\u001b[1;32m    374\u001b[0m \u001b[0;34m\u001b[0m\u001b[0m\n\u001b[1;32m    375\u001b[0m             \u001b[0;31m# M5\u001b[0m\u001b[0;34m\u001b[0m\u001b[0;34m\u001b[0m\u001b[0;34m\u001b[0m\u001b[0m\n\u001b[0;32m--> 376\u001b[0;31m             \u001b[0mlast_per_group\u001b[0m \u001b[0;34m=\u001b[0m \u001b[0mgroup\u001b[0m\u001b[0;34m.\u001b[0m\u001b[0mgroupby\u001b[0m\u001b[0;34m(\u001b[0m\u001b[0;34m\"episode_type\"\u001b[0m\u001b[0;34m)\u001b[0m\u001b[0;34m.\u001b[0m\u001b[0mget_group\u001b[0m\u001b[0;34m(\u001b[0m\u001b[0;34m\"novelty\"\u001b[0m\u001b[0;34m)\u001b[0m\u001b[0;34m.\u001b[0m\u001b[0mtail\u001b[0m\u001b[0;34m(\u001b[0m\u001b[0;36m1\u001b[0m\u001b[0;34m)\u001b[0m\u001b[0;34m\u001b[0m\u001b[0;34m\u001b[0m\u001b[0m\n\u001b[0m\u001b[1;32m    377\u001b[0m             \u001b[0mtrials_last\u001b[0m\u001b[0;34m.\u001b[0m\u001b[0mappend\u001b[0m\u001b[0;34m(\u001b[0m\u001b[0mlast_per_group\u001b[0m\u001b[0;34m)\u001b[0m\u001b[0;34m\u001b[0m\u001b[0;34m\u001b[0m\u001b[0m\n\u001b[1;32m    378\u001b[0m \u001b[0;34m\u001b[0m\u001b[0m\n",
      "\u001b[0;32m~/miniconda3/envs/hydra/lib/python3.7/site-packages/pandas/core/frame.py\u001b[0m in \u001b[0;36mgroupby\u001b[0;34m(self, by, axis, level, as_index, sort, group_keys, squeeze, observed, dropna)\u001b[0m\n\u001b[1;32m   6722\u001b[0m             \u001b[0msqueeze\u001b[0m\u001b[0;34m=\u001b[0m\u001b[0msqueeze\u001b[0m\u001b[0;34m,\u001b[0m\u001b[0;34m\u001b[0m\u001b[0;34m\u001b[0m\u001b[0m\n\u001b[1;32m   6723\u001b[0m             \u001b[0mobserved\u001b[0m\u001b[0;34m=\u001b[0m\u001b[0mobserved\u001b[0m\u001b[0;34m,\u001b[0m\u001b[0;34m\u001b[0m\u001b[0;34m\u001b[0m\u001b[0m\n\u001b[0;32m-> 6724\u001b[0;31m             \u001b[0mdropna\u001b[0m\u001b[0;34m=\u001b[0m\u001b[0mdropna\u001b[0m\u001b[0;34m,\u001b[0m\u001b[0;34m\u001b[0m\u001b[0;34m\u001b[0m\u001b[0m\n\u001b[0m\u001b[1;32m   6725\u001b[0m         )\n\u001b[1;32m   6726\u001b[0m \u001b[0;34m\u001b[0m\u001b[0m\n",
      "\u001b[0;32m~/miniconda3/envs/hydra/lib/python3.7/site-packages/pandas/core/groupby/groupby.py\u001b[0m in \u001b[0;36m__init__\u001b[0;34m(self, obj, keys, axis, level, grouper, exclusions, selection, as_index, sort, group_keys, squeeze, observed, mutated, dropna)\u001b[0m\n\u001b[1;32m    566\u001b[0m                 \u001b[0mobserved\u001b[0m\u001b[0;34m=\u001b[0m\u001b[0mobserved\u001b[0m\u001b[0;34m,\u001b[0m\u001b[0;34m\u001b[0m\u001b[0;34m\u001b[0m\u001b[0m\n\u001b[1;32m    567\u001b[0m                 \u001b[0mmutated\u001b[0m\u001b[0;34m=\u001b[0m\u001b[0mself\u001b[0m\u001b[0;34m.\u001b[0m\u001b[0mmutated\u001b[0m\u001b[0;34m,\u001b[0m\u001b[0;34m\u001b[0m\u001b[0;34m\u001b[0m\u001b[0m\n\u001b[0;32m--> 568\u001b[0;31m                 \u001b[0mdropna\u001b[0m\u001b[0;34m=\u001b[0m\u001b[0mself\u001b[0m\u001b[0;34m.\u001b[0m\u001b[0mdropna\u001b[0m\u001b[0;34m,\u001b[0m\u001b[0;34m\u001b[0m\u001b[0;34m\u001b[0m\u001b[0m\n\u001b[0m\u001b[1;32m    569\u001b[0m             )\n\u001b[1;32m    570\u001b[0m \u001b[0;34m\u001b[0m\u001b[0m\n",
      "\u001b[0;32m~/miniconda3/envs/hydra/lib/python3.7/site-packages/pandas/core/groupby/grouper.py\u001b[0m in \u001b[0;36mget_grouper\u001b[0;34m(obj, key, axis, level, sort, observed, mutated, validate, dropna)\u001b[0m\n\u001b[1;32m    809\u001b[0m                 \u001b[0min_axis\u001b[0m\u001b[0;34m,\u001b[0m \u001b[0mname\u001b[0m\u001b[0;34m,\u001b[0m \u001b[0mlevel\u001b[0m\u001b[0;34m,\u001b[0m \u001b[0mgpr\u001b[0m \u001b[0;34m=\u001b[0m \u001b[0;32mFalse\u001b[0m\u001b[0;34m,\u001b[0m \u001b[0;32mNone\u001b[0m\u001b[0;34m,\u001b[0m \u001b[0mgpr\u001b[0m\u001b[0;34m,\u001b[0m \u001b[0;32mNone\u001b[0m\u001b[0;34m\u001b[0m\u001b[0;34m\u001b[0m\u001b[0m\n\u001b[1;32m    810\u001b[0m             \u001b[0;32melse\u001b[0m\u001b[0;34m:\u001b[0m\u001b[0;34m\u001b[0m\u001b[0;34m\u001b[0m\u001b[0m\n\u001b[0;32m--> 811\u001b[0;31m                 \u001b[0;32mraise\u001b[0m \u001b[0mKeyError\u001b[0m\u001b[0;34m(\u001b[0m\u001b[0mgpr\u001b[0m\u001b[0;34m)\u001b[0m\u001b[0;34m\u001b[0m\u001b[0;34m\u001b[0m\u001b[0m\n\u001b[0m\u001b[1;32m    812\u001b[0m         \u001b[0;32melif\u001b[0m \u001b[0misinstance\u001b[0m\u001b[0;34m(\u001b[0m\u001b[0mgpr\u001b[0m\u001b[0;34m,\u001b[0m \u001b[0mGrouper\u001b[0m\u001b[0;34m)\u001b[0m \u001b[0;32mand\u001b[0m \u001b[0mgpr\u001b[0m\u001b[0;34m.\u001b[0m\u001b[0mkey\u001b[0m \u001b[0;32mis\u001b[0m \u001b[0;32mnot\u001b[0m \u001b[0;32mNone\u001b[0m\u001b[0;34m:\u001b[0m\u001b[0;34m\u001b[0m\u001b[0;34m\u001b[0m\u001b[0m\n\u001b[1;32m    813\u001b[0m             \u001b[0;31m# Add key to exclusions\u001b[0m\u001b[0;34m\u001b[0m\u001b[0;34m\u001b[0m\u001b[0;34m\u001b[0m\u001b[0m\n",
      "\u001b[0;31mKeyError\u001b[0m: 'episode_type'"
     ]
    }
   ],
   "source": [
    "metrics, performance_metrics = NoveltyExperimentRunnerSB.get_program_metrics(cdt, trials, dataframe2, dataframe3)\n",
    "\n",
    "grouped_trials = dataframe2[['trial_num', 'trial_type', 'episode_type', 'performance']].groupby(\"trial_num\")\n",
    "grouped_base = dataframe3[['trial_num', 'trial_type', 'episode_type', 'performance']].groupby(\"trial_num\")\n",
    "\n",
    "trials_known_avg = []   # M3\n",
    "trials_unknown_avg = [] # M4\n",
    "trials_last = []        # M5\n",
    "for trial_num, group in grouped_trials:\n",
    "    if 'known' in group.values: # group.trial_type: # M3\n",
    "        known_avg = group.groupby([\"trial_type\", \"episode_type\"]).get_group((\"known\", \"novelty\")).agg({'performance': numpy.mean })\n",
    "        trials_known_avg.append(known_avg)\n",
    "\n",
    "    if 'unknown' in group.values: # group.trial_type: # M4\n",
    "        unknown_avg = group.groupby([\"trial_type\", \"episode_type\"]).get_group((\"unknown\", \"novelty\")).agg({'performance': numpy.mean })\n",
    "        trials_unknown_avg.append(unknown_avg)\n",
    "\n",
    "    # M5\n",
    "    last_per_group = group.groupby(\"episode_type\").get_group(\"novelty\").tail(1)\n",
    "    trials_last.append(last_per_group)\n",
    "\n",
    "m3_agg_trials = pandas.concat(trials_known_avg, sort=True).reset_index()\n",
    "m4_agg_trials = pandas.concat(trials_unknown_avg, sort=True).reset_index()\n",
    "m5_agg_trials = pandas.concat(trials_last, sort=True)\n",
    "\n",
    "base_known_avg = []     # M3\n",
    "base_unknown_avg = []   # M4\n",
    "base_last = []          # M5\n",
    "for trial_num, group in grouped_base:\n",
    "    if 'known' in group.values: # group.trial_type:    # M3\n",
    "        known_avg = group.groupby([\"trial_type\", \"episode_type\"]).get_group((\"known\", \"non-novelty-performance\")).agg({'performance': numpy.mean })\n",
    "        base_known_avg.append(known_avg)\n",
    "\n",
    "    if 'unknown' in group.values: # group.trial_type:    # M4\n",
    "        unknown_avg = group.groupby([\"trial_type\", \"episode_type\"]).get_group((\"unknown\", \"non-novelty-performance\")).agg({'performance': numpy.mean })\n",
    "        base_unknown_avg.append(unknown_avg)\n",
    "\n",
    "    # M5\n",
    "    last_per_group = group.groupby(\"episode_type\").get_group(\"novelty\").tail(1)\n",
    "    base_last.append(last_per_group)\n",
    "\n",
    "m3_agg_base = pandas.concat(base_known_avg, sort=True).reset_index()\n",
    "m4_agg_base = pandas.concat(base_unknown_avg, sort=True).reset_index()\n",
    "m5_agg_base = pandas.concat(base_last, sort=True)\n",
    "\n",
    "m3_agg_trials['known_perf'] = m3_agg_trials[0] / m3_agg_base[0] \n",
    "m4_agg_trials['unknown_perf'] = m4_agg_trials[0] / m4_agg_base[0]\n",
    "m5_agg_trials['opti_t'] = m5_agg_trials['performance'] / (m5_agg_base['performance'] + m5_agg_trials['performance'])\n",
    "\n",
    "# performance_metrics = pandas.DataFrame(columns=['M3', 'M4', 'M5', 'M6'])\n",
    "# performance_metrics['M3'] = m3_agg_trials.agg({'known_perf': numpy.mean})# ['known_perf']\n",
    "# performance_metrics['M4'] = m4_agg_trials.agg({'unknown_perf': numpy.mean})['unknown_perf']\n",
    "# performance_metrics['M5'] = m5_agg_trials.agg({'opti_t': numpy.sum}).iloc[0] / len(m5_agg_trials.index)\n",
    "\n",
    "print(metrics)\n",
    "\n",
    "print(\"------------------------------------------------------------\")\n",
    "\n",
    "print(performance_metrics)"
   ]
  },
  {
   "source": [
    "# Experiment Results - Pass / No Pass performance of Agent"
   ],
   "cell_type": "markdown",
   "metadata": {}
  },
  {
   "cell_type": "code",
   "execution_count": null,
   "metadata": {},
   "outputs": [],
   "source": [
    "plt.figure(figsize=(16, 9))\n",
    "ax = sns.lineplot(data=trials, y='passed', x='trial_num', hue='trial_type')\n",
    "ax.set(ylim=(0, 25))\n",
    "plt.title(\"Experiment performance (pass/no pass)\", fontsize=20)\n",
    "plt.xlabel(\"trial number\", fontsize=15)\n",
    "plt.ylabel(\"passed episodes\", fontsize=15)"
   ]
  },
  {
   "source": [
    "# Experiment Results - Rewards"
   ],
   "cell_type": "markdown",
   "metadata": {}
  },
  {
   "cell_type": "code",
   "execution_count": null,
   "metadata": {},
   "outputs": [],
   "source": [
    "NoveltyExperimentRunnerSB.plot_experiment_results(dataframe2, 5)"
   ]
  },
  {
   "source": [
    "# Science Birds Baseline Performance"
   ],
   "cell_type": "markdown",
   "metadata": {}
  },
  {
   "cell_type": "code",
   "execution_count": null,
   "metadata": {},
   "outputs": [],
   "source": [
    "NoveltyExperimentRunnerSB.plot_experiment_results(dataframe3, 5)"
   ]
  },
  {
   "source": [
    "# Level 2 Type 8 Experiment - Non repairing Hydra agent"
   ],
   "cell_type": "markdown",
   "metadata": {}
  },
  {
   "cell_type": "code",
   "execution_count": null,
   "metadata": {},
   "outputs": [],
   "source": [
    "results_file_4 = open(path.join(settings.ROOT_PATH, \"runners\", \"experiments\", \"ScienceBirds\", \"SB_experiment\", \"level2_type8_novelties.csv\"), \"r\")\n",
    "\n",
    "dataframe4 = NoveltyExperimentRunnerSB.categorize_examples_for_novelty_detection(pandas.read_csv(results_file_4))"
   ]
  },
  {
   "cell_type": "code",
   "execution_count": null,
   "metadata": {},
   "outputs": [],
   "source": [
    "dataframe4"
   ]
  },
  {
   "cell_type": "code",
   "execution_count": null,
   "metadata": {},
   "outputs": [],
   "source": [
    "trials4,cdt4 = NoveltyExperimentRunnerSB.get_trials_summary(dataframe4)\n",
    "print(trials4)\n",
    "print(cdt4)"
   ]
  },
  {
   "cell_type": "code",
   "execution_count": null,
   "metadata": {},
   "outputs": [],
   "source": [
    "metrics4 = NoveltyExperimentRunnerSB.get_program_metrics(cdt4, trials4)\n",
    "\n",
    "print(metrics4)"
   ]
  },
  {
   "cell_type": "code",
   "execution_count": null,
   "metadata": {},
   "outputs": [],
   "source": [
    "NoveltyExperimentRunnerSB.plot_experiment_results(dataframe4, 5)"
   ]
  },
  {
   "cell_type": "code",
   "execution_count": null,
   "metadata": {},
   "outputs": [],
   "source": [
    "compound = pandas.concat([dataframe2, dataframe4])\n",
    "compound"
   ]
  },
  {
   "cell_type": "code",
   "execution_count": null,
   "metadata": {},
   "outputs": [],
   "source": [
    "NoveltyExperimentRunnerSB.plot_experiment_results(compound, 5)"
   ]
  },
  {
   "cell_type": "code",
   "execution_count": null,
   "metadata": {},
   "outputs": [],
   "source": []
  }
 ],
 "metadata": {
  "kernelspec": {
   "name": "python3",
   "display_name": "Python 3.7.9 64-bit ('hydra': conda)"
  },
  "language_info": {
   "codemirror_mode": {
    "name": "ipython",
    "version": 3
   },
   "file_extension": ".py",
   "mimetype": "text/x-python",
   "name": "python",
   "nbconvert_exporter": "python",
   "pygments_lexer": "ipython3",
   "version": "3.7.9"
  },
  "metadata": {
   "interpreter": {
    "hash": "920a4519ea2ea0783c81a48797f955d7e20d82b4c7ccd6a4ef031c487e759646"
   }
  },
  "interpreter": {
   "hash": "531f5763b9b106ba71ea598bab66efe7dec35017cdd2be99227931fa22d194a4"
  }
 },
 "nbformat": 4,
 "nbformat_minor": 4
}
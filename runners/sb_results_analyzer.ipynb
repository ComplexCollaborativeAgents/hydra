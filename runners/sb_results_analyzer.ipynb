{
 "cells": [
  {
   "cell_type": "code",
   "execution_count": 12,
   "metadata": {},
   "outputs": [],
   "source": [
    "import json\n",
    "import pathlib\n",
    "\n"
   ]
  },
  {
   "cell_type": "markdown",
   "metadata": {},
   "source": [
    "# Overall"
   ]
  },
  {
   "cell_type": "code",
   "execution_count": 13,
   "metadata": {},
   "outputs": [
    {
     "name": "stdout",
     "output_type": "stream",
     "text": [
      "tp\ttn\tfp\tfn\ttotal\n",
      "3\t10\t2\t21\t36\n"
     ]
    }
   ],
   "source": [
    "in_file_path = pathlib.Path(\"..\") / \"data\" / \"science_birds\" / \"tests\" / \"eval_trial0_results.json\"\n",
    "\n",
    "DEL = \"\\t\"\n",
    "with open(in_file_path,\"r\") as in_file:\n",
    "    json_obj = json.load(in_file)\n",
    "    \n",
    "    headers = (\"tp\",\"tn\",\"fp\", \"fn\", \"total\")\n",
    "    print(DEL.join(headers))\n",
    "    \n",
    "    fp=0\n",
    "    fn=0\n",
    "    tp=0\n",
    "    tn=0\n",
    "    for i, trial in enumerate(json_obj):\n",
    "        overall = trial['overall']\n",
    "        fp = fp+overall['false_positives']\n",
    "        fn = fn+overall['false_negatives']\n",
    "        tn = tn+overall['true_negatives']\n",
    "        tp = tp+overall['true_positives']\n",
    "        \n",
    "    print(DEL.join((str(element) for element in (tp, tn, fp, fn, tp+tn+fp+fn))))\n",
    "        "
   ]
  },
  {
   "cell_type": "markdown",
   "metadata": {},
   "source": [
    "# Detailed"
   ]
  },
  {
   "cell_type": "code",
   "execution_count": 16,
   "metadata": {
    "scrolled": true
   },
   "outputs": [
    {
     "name": "stdout",
     "output_type": "stream",
     "text": [
      "trial\tlevel\tis_novel\tdetected?\tpddl_pred\tpddl_avg\tpddl_max\tcnn_pred\tcnn_avg\tcnn_max\n",
      "0: True: Levels/novelty_level_1/type6/Levels/01549_3_0_6_1.xml\n",
      "1: True: Levels/novelty_level_1/type6/Levels/01535_12_0_6_1.xml\n",
      "2: False: Levels/novelty_level_0/type2/Levels/00808_0_0_2_0.xml\n",
      "0: True: Levels/novelty_level_1/type7/Levels/01719_5_0_7_1.xml\n",
      "1: True: Levels/novelty_level_1/type7/Levels/01763_13_0_7_1.xml\n",
      "2: False: Levels/novelty_level_0/type2/Levels/01518_0_0_2_0.xml\n",
      "0: True: Levels/novelty_level_1/type8/Levels/01003_11_0_8_1.xml\n",
      "1: False: Levels/novelty_level_0/type2/Levels/01000_0_0_2_0.xml\n",
      "2: True: Levels/novelty_level_1/type8/Levels/01713_2_0_8_1.xml\n",
      "0: False: Levels/novelty_level_0/type2/Levels/01543_0_0_2_0.xml\n",
      "1: True: Levels/novelty_level_1/type9/Levels/01739_1_0_9_1.xml\n",
      "2: True: Levels/novelty_level_1/type9/Levels/01539_1_0_9_1.xml\n",
      "0: True: Levels/novelty_level_1/type10/Levels/00803_5_0_10_1.xml\n",
      "1: False: Levels/novelty_level_0/type2/Levels/00905_0_0_2_0.xml\n",
      "2: True: Levels/novelty_level_1/type10/Levels/01723_1_0_10_1.xml\n",
      "0: True: Levels/novelty_level_2/type6/Levels/01102_2_0_6_2.xml\n",
      "1: True: Levels/novelty_level_2/type6/Levels/01710_1_0_6_2.xml\n",
      "2: False: Levels/novelty_level_0/type2/Levels/01540_0_0_2_0.xml\n",
      "0: False: Levels/novelty_level_0/type2/Levels/01745_0_0_2_0.xml\n",
      "1: True: Levels/novelty_level_2/type7/Levels/00905_4_0_7_2.xml\n",
      "2: True: Levels/novelty_level_2/type7/Levels/00906_5_0_7_2.xml\n",
      "0: True: Levels/novelty_level_2/type8/Levels/01551_6_0_8_2.xml\n",
      "1: True: Levels/novelty_level_2/type8/Levels/01723_5_0_8_2.xml\n",
      "2: False: Levels/novelty_level_0/type2/Levels/01202_0_0_2_0.xml\n",
      "0: False: Levels/novelty_level_0/type2/Levels/01516_0_0_2_0.xml\n",
      "1: True: Levels/novelty_level_2/type9/Levels/01713_5_0_9_2.xml\n",
      "2: True: Levels/novelty_level_2/type9/Levels/01100_6_0_9_2.xml\n",
      "0: True: Levels/novelty_level_2/type10/Levels/01548_3_0_10_2.xml\n",
      "1: False: Levels/novelty_level_0/type2/Levels/01203_0_0_2_0.xml\n",
      "2: True: Levels/novelty_level_2/type10/Levels/00505_6_0_10_2.xml\n",
      "0: True: Levels/novelty_level_3/type6/Levels/01748_1_0_6_3.xml\n",
      "1: True: Levels/novelty_level_3/type6/Levels/00901_1_0_6_3.xml\n",
      "2: False: Levels/novelty_level_0/type2/Levels/01538_0_0_2_0.xml\n",
      "0: False: Levels/novelty_level_0/type2/Levels/01720_0_0_2_0.xml\n",
      "1: True: Levels/novelty_level_3/type7/Levels/01508_1_0_7_3.xml\n",
      "2: True: Levels/novelty_level_3/type7/Levels/01719_1_0_7_3.xml\n"
     ]
    }
   ],
   "source": [
    "in_file_path = pathlib.Path(\"..\") / \"data\" / \"science_birds\" / \"tests\" / \"eval_trial0_results.json\"\n",
    "\n",
    "DEL = \"\\t\"\n",
    "with open(in_file_path,\"r\") as in_file:\n",
    "    json_obj = json.load(in_file)\n",
    "    \n",
    "    headers = (\"trial\",\"level\",\"is_novel\", \"detected?\", \"pddl_pred\", \"pddl_avg\", \"pddl_max\", \"cnn_pred\", \"cnn_avg\", \"cnn_max\")\n",
    "    print(DEL.join(headers))\n",
    "    \n",
    "    for i, trial in enumerate(json_obj):\n",
    "        levels = trial['levels']\n",
    "        overall = trial['overall']\n",
    "        for level_idx, level in enumerate(levels):\n",
    "            is_novel = \"novelty_level_0\" not in level['level']\n",
    "            print(\"{}: {}: {}\".format(level_idx, is_novel, level['level']))\n",
    "            cnn_prob_str = [\"{:.2f}\".format(prob) for prob in level['nn_novelty_likelihood']]\n",
    "            pddl_prob_str = [\"{:.2f}\".format(prob) for prob in level['pddl_novelty_likelihood']]\n",
    "            probs = level['nn_novelty_likelihood']\n",
    "            max_cnn_value = max(probs)\n",
    "            avg_cnn_value = sum(probs)/len(probs)\n",
    "            cnn_prediction = max_cnn_value>0.5\n",
    "\n",
    "            probs = level['pddl_novelty_likelihood']\n",
    "            max_pddl_value = max(probs)\n",
    "            avg_pddl_value = sum(probs)/len(probs)\n",
    "            pddl_detection =  max_pddl_value>50\n",
    "            \n",
    "            values = (is_novel, pddl_detection, max_pddl_value, avg_pddl_value,\n",
    "                        cnn_prediction, max_cnn_value, avg_cnn_value )\n",
    "\n",
    "#             print(DEL.join((str(i), str(level_idx), str(is_novel),str(pddl_detection),\"{:.2f}\".format(max_pddl_value),\"{:.2f}\".format(avg_pddl_value),str(cnn_prediction),\"{:.2f}\".format(max_cnn_value),\"{:.2f}\".format(avg_cnn_value))))"
   ]
  },
  {
   "cell_type": "code",
   "execution_count": null,
   "metadata": {},
   "outputs": [],
   "source": []
  },
  {
   "cell_type": "code",
   "execution_count": null,
   "metadata": {},
   "outputs": [],
   "source": []
  },
  {
   "cell_type": "code",
   "execution_count": null,
   "metadata": {},
   "outputs": [],
   "source": []
  }
 ],
 "metadata": {
  "kernelspec": {
   "display_name": "Python 3",
   "language": "python",
   "name": "python3"
  },
  "language_info": {
   "codemirror_mode": {
    "name": "ipython",
    "version": 3
   },
   "file_extension": ".py",
   "mimetype": "text/x-python",
   "name": "python",
   "nbconvert_exporter": "python",
   "pygments_lexer": "ipython3",
   "version": "3.8.3"
  }
 },
 "nbformat": 4,
 "nbformat_minor": 4
}

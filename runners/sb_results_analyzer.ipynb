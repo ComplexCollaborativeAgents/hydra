{
 "cells": [
  {
   "cell_type": "code",
   "execution_count": 1,
   "metadata": {},
   "outputs": [],
   "source": [
    "import json\n",
    "import pathlib\n",
    "\n"
   ]
  },
  {
   "cell_type": "markdown",
   "metadata": {},
   "source": [
    "# Overall"
   ]
  },
  {
   "cell_type": "code",
   "execution_count": 2,
   "metadata": {},
   "outputs": [
    {
     "name": "stdout",
     "output_type": "stream",
     "text": [
      "tp\ttn\tfp\tfn\ttotal\n",
      "1\t10\t2\t23\t36\n"
     ]
    }
   ],
   "source": [
    "in_file_path = pathlib.Path(\"..\") / \"data\" / \"science_birds\" / \"tests\" / \"eval_trial0_results.json\"\n",
    "\n",
    "DEL = \"\\t\"\n",
    "with open(in_file_path,\"r\") as in_file:\n",
    "    json_obj = json.load(in_file)\n",
    "    \n",
    "    headers = (\"tp\",\"tn\",\"fp\", \"fn\", \"total\")\n",
    "    print(DEL.join(headers))\n",
    "    \n",
    "    fp=0\n",
    "    fn=0\n",
    "    tp=0\n",
    "    tn=0\n",
    "    for i, trial in enumerate(json_obj):\n",
    "        overall = trial['overall']\n",
    "        fp = fp+overall['false_positives']\n",
    "        fn = fn+overall['false_negatives']\n",
    "        tn = tn+overall['true_negatives']\n",
    "        tp = tp+overall['true_positives']\n",
    "        \n",
    "    print(DEL.join((str(element) for element in (tp, tn, fp, fn, tp+tn+fp+fn))))\n",
    "        "
   ]
  },
  {
   "cell_type": "markdown",
   "metadata": {},
   "source": [
    "# Detailed"
   ]
  },
  {
   "cell_type": "code",
   "execution_count": 4,
   "metadata": {
    "scrolled": true
   },
   "outputs": [
    {
     "name": "stdout",
     "output_type": "stream",
     "text": [
      "trial\tlevel\tis_novel\tpddl_pred\tpddl_avg\tpddl_max\tcnn_pred\tcnn_avg\tcnn_max\n",
      "0.0\n",
      "0\t0\tTrue\tFalse\t21.52\t7.17\tTrue\t1.00\t0.33\n",
      "0.0\n",
      "0\t1\tFalse\tFalse\t9.38\t3.13\tTrue\t1.00\t0.67\n",
      "0.0\n",
      "0\t2\tFalse\tFalse\t20.32\t15.03\tTrue\t1.00\t1.00\n",
      "0.0\n",
      "1\t0\tFalse\tTrue\t53.85\t15.51\tTrue\t1.00\t1.00\n",
      "0.0\n",
      "1\t1\tFalse\tTrue\t56.10\t56.10\tTrue\t1.00\t1.00\n",
      "0.0\n",
      "1\t2\tTrue\tTrue\t50.35\t50.35\tFalse\t0.00\t0.00\n",
      "0.0\n",
      "2\t0\tTrue\tFalse\t21.35\t7.12\tTrue\t1.00\t0.77\n",
      "0.0\n",
      "2\t1\tFalse\tFalse\t22.81\t15.03\tTrue\t1.00\t1.00\n",
      "0.0\n",
      "2\t2\tFalse\tTrue\t58.62\t40.73\tTrue\t1.00\t0.50\n",
      "0.0\n",
      "3\t0\tFalse\tTrue\t50.79\t25.40\tFalse\t0.00\t0.00\n",
      "0.0\n",
      "3\t1\tTrue\tTrue\t50.56\t28.53\tFalse\t0.00\t0.00\n",
      "1.0\n",
      "3\t2\tFalse\tTrue\t64.29\t41.38\tTrue\t1.00\t1.00\n",
      "0.0\n",
      "4\t0\tFalse\tTrue\t50.88\t38.07\tTrue\t1.00\t0.75\n",
      "0.0\n",
      "4\t1\tFalse\tTrue\t62.20\t28.82\tTrue\t1.00\t0.75\n",
      "0.0\n",
      "4\t2\tTrue\tTrue\t62.50\t38.54\tTrue\t1.00\t0.33\n",
      "0.0\n",
      "5\t0\tFalse\tTrue\t60.14\t31.23\tTrue\t1.00\t0.11\n",
      "0.0\n",
      "5\t1\tTrue\tTrue\t67.07\t55.84\tTrue\t1.00\t0.40\n",
      "0.0\n",
      "5\t2\tFalse\tTrue\t50.89\t16.09\tFalse\t0.00\t0.00\n",
      "0.0\n",
      "6\t0\tFalse\tTrue\t50.68\t50.68\tFalse\t0.00\t0.00\n",
      "0.0\n",
      "6\t1\tFalse\tTrue\t67.86\t43.43\tFalse\t0.32\t0.11\n",
      "1.0\n",
      "6\t2\tTrue\tTrue\t56.12\t35.99\tTrue\t1.00\t0.33\n",
      "0.0\n",
      "7\t0\tFalse\tTrue\t69.70\t59.12\tTrue\t1.00\t1.00\n",
      "0.0\n",
      "7\t1\tFalse\tTrue\t50.58\t13.29\tTrue\t1.00\t1.00\n",
      "1.0\n",
      "7\t2\tTrue\tTrue\t61.16\t20.39\tTrue\t1.00\t0.67\n",
      "0.0\n",
      "8\t0\tFalse\tTrue\t51.67\t38.30\tTrue\t1.00\t0.75\n",
      "0.0\n",
      "8\t1\tFalse\tTrue\t50.62\t40.92\tTrue\t1.00\t0.67\n",
      "0.0\n",
      "8\t2\tTrue\tFalse\t31.25\t29.28\tTrue\t1.00\t0.50\n",
      "0.0\n",
      "9\t0\tFalse\tTrue\t51.32\t22.08\tFalse\t0.00\t0.00\n",
      "0.0\n",
      "9\t1\tFalse\tTrue\t62.86\t38.04\tTrue\t1.00\t0.67\n",
      "0.0\n",
      "9\t2\tTrue\tTrue\t57.16\t19.05\tTrue\t1.00\t0.33\n",
      "0.0\n",
      "10\t0\tFalse\tFalse\t0.00\t0.00\tTrue\t1.00\t1.00\n",
      "0.0\n",
      "10\t1\tTrue\tTrue\t50.46\t44.86\tTrue\t1.00\t0.75\n",
      "0.0\n",
      "10\t2\tFalse\tFalse\t5.23\t1.70\tTrue\t1.00\t0.44\n",
      "0.0\n",
      "11\t0\tTrue\tTrue\t60.29\t24.63\tTrue\t1.00\t0.57\n",
      "0.0\n",
      "11\t1\tFalse\tFalse\t0.00\t0.00\tTrue\t1.00\t1.00\n",
      "0.0\n",
      "11\t2\tFalse\tFalse\t0.00\t0.00\tTrue\t1.00\t1.00\n"
     ]
    }
   ],
   "source": [
    "in_file_path = pathlib.Path(\"..\") / \"data\" / \"science_birds\" / \"tests\" / \"eval_trial0_results.json\"\n",
    "\n",
    "DEL = \"\\t\"\n",
    "with open(in_file_path,\"r\") as in_file:\n",
    "    json_obj = json.load(in_file)\n",
    "    \n",
    "    headers = (\"trial\",\"level\",\"is_novel\", \"detected?\", \"pddl_pred\", \"pddl_avg\", \"pddl_max\", \"cnn_pred\", \"cnn_avg\", \"cnn_max\")\n",
    "    print(DEL.join(headers))\n",
    "    \n",
    "    for i, trial in enumerate(json_obj):\n",
    "        levels = trial['levels']\n",
    "        overall = trial['overall']\n",
    "        for level_idx, level in enumerate(levels):\n",
    "            is_novel = \"novelty_level_0\" in level['level']\n",
    "            \n",
    "            cnn_prob_str = [\"{:.2f}\".format(prob) for prob in level['nn_novelty_likelihood']]\n",
    "            pddl_prob_str = [\"{:.2f}\".format(prob) for prob in level['pddl_novelty_likelihood']]\n",
    "            probs = level['nn_novelty_likelihood']\n",
    "            max_cnn_value = max(probs)\n",
    "            avg_cnn_value = sum(probs)/len(probs)\n",
    "            cnn_prediction = max_cnn_value>0.5\n",
    "\n",
    "            probs = level['pddl_novelty_likelihood']\n",
    "            max_pddl_value = max(probs)\n",
    "            avg_pddl_value = sum(probs)/len(probs)\n",
    "            pddl_detection =  max_pddl_value>50\n",
    "            \n",
    "            values = (is_novel, pddl_detection, max_pddl_value, avg_pddl_value,\n",
    "                        cnn_prediction, max_cnn_value, avg_cnn_value )\n",
    "\n",
    "            print(DEL.join((str(i), str(level_idx), str(is_novel),str(pddl_detection),\"{:.2f}\".format(max_pddl_value),\"{:.2f}\".format(avg_pddl_value),str(cnn_prediction),\"{:.2f}\".format(max_cnn_value),\"{:.2f}\".format(avg_cnn_value))))"
   ]
  },
  {
   "cell_type": "code",
   "execution_count": null,
   "metadata": {},
   "outputs": [],
   "source": []
  },
  {
   "cell_type": "code",
   "execution_count": null,
   "metadata": {},
   "outputs": [],
   "source": []
  },
  {
   "cell_type": "code",
   "execution_count": null,
   "metadata": {},
   "outputs": [],
   "source": []
  }
 ],
 "metadata": {
  "kernelspec": {
   "display_name": "Python 3",
   "language": "python",
   "name": "python3"
  },
  "language_info": {
   "codemirror_mode": {
    "name": "ipython",
    "version": 3
   },
   "file_extension": ".py",
   "mimetype": "text/x-python",
   "name": "python",
   "nbconvert_exporter": "python",
   "pygments_lexer": "ipython3",
   "version": "3.8.3"
  }
 },
 "nbformat": 4,
 "nbformat_minor": 4
}

{
 "cells": [
  {
   "cell_type": "code",
   "execution_count": 1,
   "metadata": {},
   "outputs": [],
   "source": [
    "import json\n",
    "import pathlib\n",
    "\n"
   ]
  },
  {
   "cell_type": "markdown",
   "metadata": {},
   "source": [
    "# Overall"
   ]
  },
  {
   "cell_type": "code",
   "execution_count": 11,
   "metadata": {},
   "outputs": [
    {
     "name": "stdout",
     "output_type": "stream",
     "text": [
      "tp\ttn\tfp\tfn\ttotal\n",
      "3\t10\t2\t21\t36\n"
     ]
    }
   ],
   "source": [
    "in_file_path = pathlib.Path(\"..\") / \"data\" / \"science_birds\" / \"tests\" / \"eval_trial0_results.json\"\n",
    "\n",
    "DEL = \"\\t\"\n",
    "with open(in_file_path,\"r\") as in_file:\n",
    "    json_obj = json.load(in_file)\n",
    "    \n",
    "    headers = (\"tp\",\"tn\",\"fp\", \"fn\", \"total\")\n",
    "    print(DEL.join(headers))\n",
    "    \n",
    "    fp=0\n",
    "    fn=0\n",
    "    tp=0\n",
    "    tn=0\n",
    "    for i, trial in enumerate(json_obj):\n",
    "        overall = trial['overall']\n",
    "        fp = fp+overall['false_positives']\n",
    "        fn = fn+overall['false_negatives']\n",
    "        tn = tn+overall['true_negatives']\n",
    "        tp = tp+overall['true_positives']\n",
    "        \n",
    "    print(DEL.join((str(element) for element in (tp, tn, fp, fn, tp+tn+fp+fn))))\n",
    "        "
   ]
  },
  {
   "cell_type": "markdown",
   "metadata": {},
   "source": [
    "# Detailed"
   ]
  },
  {
   "cell_type": "code",
   "execution_count": 7,
   "metadata": {
    "scrolled": true
   },
   "outputs": [
    {
     "name": "stdout",
     "output_type": "stream",
     "text": [
      "trial\tlevel\tis_novel\tpddl_pred\tpddl_avg\tpddl_max\tcnn_pred\tcnn_avg\tcnn_max\n",
      "0\t0\tFalse\tFalse\t13.02\t4.34\tTrue\t1.00\t0.67\n",
      "0\t1\tFalse\tTrue\t50.38\t23.53\tTrue\t1.00\t1.00\n",
      "0\t2\tTrue\tFalse\t20.46\t6.82\tTrue\t1.00\t0.67\n",
      "1\t0\tFalse\tTrue\t58.54\t26.54\tTrue\t1.00\t1.00\n",
      "1\t1\tFalse\tTrue\t54.27\t54.27\tTrue\t1.00\t1.00\n",
      "1\t2\tTrue\tFalse\t0.00\t0.00\tFalse\t0.00\t0.00\n",
      "2\t0\tFalse\tTrue\t52.03\t13.01\tTrue\t1.00\t1.00\n",
      "2\t1\tTrue\tFalse\t21.35\t7.12\tTrue\t1.00\t0.77\n",
      "2\t2\tFalse\tTrue\t52.33\t33.38\tTrue\t1.00\t1.00\n",
      "3\t0\tTrue\tFalse\t18.12\t14.69\tTrue\t1.00\t1.00\n",
      "3\t1\tFalse\tTrue\t50.61\t25.30\tTrue\t1.00\t0.50\n",
      "3\t2\tFalse\tTrue\t51.22\t25.53\tTrue\t1.00\t0.25\n",
      "4\t0\tFalse\tTrue\t50.91\t38.08\tTrue\t1.00\t1.00\n",
      "4\t1\tTrue\tTrue\t50.79\t25.39\tTrue\t1.00\t0.50\n",
      "4\t2\tFalse\tTrue\t62.20\t38.43\tTrue\t1.00\t1.00\n",
      "5\t0\tFalse\tTrue\t50.89\t15.18\tTrue\t1.00\t0.25\n",
      "5\t1\tFalse\tTrue\t75.00\t24.77\tTrue\t1.00\t0.56\n",
      "5\t2\tTrue\tTrue\t68.90\t54.34\tTrue\t1.00\t1.00\n",
      "6\t0\tTrue\tTrue\t53.06\t35.05\tTrue\t1.00\t0.33\n",
      "6\t1\tFalse\tFalse\t32.24\t16.12\tTrue\t1.00\t0.50\n",
      "6\t2\tFalse\tTrue\t50.68\t50.68\tTrue\t1.00\t1.00\n",
      "7\t0\tFalse\tTrue\t50.52\t12.77\tTrue\t1.00\t0.80\n",
      "7\t1\tFalse\tTrue\t62.80\t39.14\tTrue\t1.00\t1.00\n",
      "7\t2\tTrue\tTrue\t64.51\t21.50\tTrue\t1.00\t0.67\n",
      "8\t0\tTrue\tFalse\t27.51\t27.41\tFalse\t0.00\t0.00\n",
      "8\t1\tFalse\tTrue\t51.69\t38.30\tTrue\t1.00\t0.75\n",
      "8\t2\tFalse\tFalse\t8.42\t2.81\tTrue\t1.00\t1.00\n",
      "9\t0\tFalse\tTrue\t52.70\t17.57\tTrue\t1.00\t0.67\n",
      "9\t1\tTrue\tTrue\t57.16\t19.05\tTrue\t1.00\t0.33\n",
      "9\t2\tFalse\tTrue\t76.79\t46.55\tTrue\t1.00\t0.67\n",
      "10\t0\tFalse\tFalse\t8.89\t0.99\tTrue\t1.00\t0.89\n",
      "10\t1\tFalse\tFalse\t0.00\t0.00\tTrue\t1.00\t1.00\n",
      "10\t2\tTrue\tTrue\t50.45\t38.86\tTrue\t1.00\t0.25\n",
      "11\t0\tTrue\tTrue\t60.29\t19.21\tTrue\t1.00\t0.50\n",
      "11\t1\tFalse\tFalse\t0.00\t0.00\tTrue\t1.00\t1.00\n",
      "11\t2\tFalse\tFalse\t0.00\t0.00\tTrue\t1.00\t1.00\n"
     ]
    }
   ],
   "source": [
    "in_file_path = pathlib.Path(\"..\") / \"data\" / \"science_birds\" / \"tests\" / \"eval_trial0_results.json\"\n",
    "\n",
    "DEL = \"\\t\"\n",
    "with open(in_file_path,\"r\") as in_file:\n",
    "    json_obj = json.load(in_file)\n",
    "    \n",
    "    headers = (\"trial\",\"level\",\"is_novel\", \"pddl_pred\", \"pddl_avg\", \"pddl_max\", \"cnn_pred\", \"cnn_avg\", \"cnn_max\")\n",
    "    print(DEL.join(headers))\n",
    "    \n",
    "    for i, trial in enumerate(json_obj):\n",
    "        levels = trial['levels']\n",
    "        overall = trial['overall']\n",
    "        for level_idx, level in enumerate(levels):\n",
    "            is_novel = \"novelty_level_0\" in level['level']\n",
    "            cnn_prob_str = [\"{:.2f}\".format(prob) for prob in level['nn_novelty_likelihood']]\n",
    "            pddl_prob_str = [\"{:.2f}\".format(prob) for prob in level['pddl_novelty_likelihood']]\n",
    "            probs = level['nn_novelty_likelihood']\n",
    "            max_cnn_value = max(probs)\n",
    "            avg_cnn_value = sum(probs)/len(probs)\n",
    "            cnn_prediction = max_cnn_value>0.5\n",
    "\n",
    "            probs = level['pddl_novelty_likelihood']\n",
    "            max_pddl_value = max(probs)\n",
    "            avg_pddl_value = sum(probs)/len(probs)\n",
    "            pddl_detection =  max_pddl_value>50\n",
    "            \n",
    "            values = (is_novel, pddl_detection, max_pddl_value, avg_pddl_value,\n",
    "                        cnn_prediction, max_cnn_value, avg_cnn_value )\n",
    "\n",
    "            print(DEL.join((str(i), str(level_idx), str(is_novel),str(pddl_detection),\"{:.2f}\".format(max_pddl_value),\"{:.2f}\".format(avg_pddl_value),str(cnn_prediction),\"{:.2f}\".format(max_cnn_value),\"{:.2f}\".format(avg_cnn_value))))"
   ]
  }
 ],
 "metadata": {
  "kernelspec": {
   "display_name": "Python 3",
   "language": "python",
   "name": "python3"
  },
  "language_info": {
   "codemirror_mode": {
    "name": "ipython",
    "version": 3
   },
   "file_extension": ".py",
   "mimetype": "text/x-python",
   "name": "python",
   "nbconvert_exporter": "python",
   "pygments_lexer": "ipython3",
   "version": "3.8.3"
  }
 },
 "nbformat": 4,
 "nbformat_minor": 4
}

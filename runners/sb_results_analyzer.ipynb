{
 "cells": [
  {
   "cell_type": "code",
   "execution_count": 2,
   "metadata": {},
   "outputs": [
    {
     "name": "stdout",
     "output_type": "stream",
     "text": [
      "../data\n"
     ]
    }
   ],
   "source": [
    "import json\n",
    "import pathlib\n",
    "\n"
   ]
  },
  {
   "cell_type": "code",
   "execution_count": 63,
   "metadata": {},
   "outputs": [
    {
     "name": "stdout",
     "output_type": "stream",
     "text": [
      "trial\tlevel\tis_novel\tpddl_pred\tpddl_avg\tpddl_max\tcnn_pred\tcnn_avg\tcnn_max\n",
      "0\t0\tFalse\tFalse\t0.00\t0.00\tTrue\t1.00\t1.00\n",
      "0\t1\tFalse\tFalse\t0.00\t0.00\tTrue\t1.00\t1.00\n",
      "0\t2\tTrue\tTrue\t60.29\t25.19\tTrue\t1.00\t0.14\n",
      "1\t0\tFalse\tFalse\t0.00\t0.00\tTrue\t1.00\t1.00\n",
      "1\t1\tFalse\tFalse\t0.00\t0.00\tTrue\t1.00\t1.00\n",
      "1\t2\tTrue\tTrue\t60.29\t25.19\tTrue\t1.00\t0.14\n",
      "2\t0\tFalse\tFalse\t0.00\t0.00\tTrue\t1.00\t1.00\n",
      "2\t1\tFalse\tFalse\t0.00\t0.00\tTrue\t1.00\t1.00\n",
      "2\t2\tTrue\tTrue\t60.29\t25.19\tTrue\t1.00\t0.14\n",
      "3\t0\tFalse\tFalse\t0.00\t0.00\tTrue\t1.00\t1.00\n",
      "3\t1\tFalse\tFalse\t0.00\t0.00\tTrue\t1.00\t1.00\n",
      "3\t2\tTrue\tTrue\t60.29\t25.19\tTrue\t1.00\t0.14\n",
      "4\t0\tFalse\tFalse\t0.00\t0.00\tTrue\t1.00\t1.00\n",
      "4\t1\tFalse\tFalse\t0.00\t0.00\tTrue\t1.00\t1.00\n",
      "4\t2\tTrue\tTrue\t60.29\t25.19\tTrue\t1.00\t0.14\n",
      "5\t0\tFalse\tFalse\t0.00\t0.00\tTrue\t1.00\t1.00\n",
      "5\t1\tFalse\tFalse\t0.00\t0.00\tTrue\t1.00\t1.00\n",
      "5\t2\tTrue\tTrue\t60.29\t25.19\tTrue\t1.00\t0.14\n",
      "6\t0\tFalse\tFalse\t0.00\t0.00\tTrue\t1.00\t1.00\n",
      "6\t1\tFalse\tFalse\t0.00\t0.00\tTrue\t1.00\t1.00\n",
      "6\t2\tTrue\tTrue\t60.29\t25.19\tTrue\t1.00\t0.14\n",
      "7\t0\tFalse\tFalse\t0.00\t0.00\tTrue\t1.00\t1.00\n",
      "7\t1\tFalse\tFalse\t0.00\t0.00\tTrue\t1.00\t1.00\n",
      "7\t2\tTrue\tTrue\t60.29\t25.19\tTrue\t1.00\t0.14\n",
      "8\t0\tFalse\tFalse\t0.00\t0.00\tTrue\t1.00\t1.00\n",
      "8\t1\tFalse\tFalse\t0.00\t0.00\tTrue\t1.00\t1.00\n",
      "8\t2\tTrue\tTrue\t60.29\t25.19\tTrue\t1.00\t0.14\n",
      "9\t0\tFalse\tFalse\t0.00\t0.00\tTrue\t1.00\t1.00\n",
      "9\t1\tFalse\tFalse\t0.00\t0.00\tTrue\t1.00\t1.00\n",
      "9\t2\tTrue\tTrue\t60.29\t25.19\tTrue\t1.00\t0.14\n",
      "10\t0\tFalse\tFalse\t0.00\t0.00\tTrue\t1.00\t1.00\n",
      "10\t1\tFalse\tFalse\t0.00\t0.00\tTrue\t1.00\t1.00\n",
      "10\t2\tTrue\tTrue\t60.29\t25.19\tTrue\t1.00\t0.14\n",
      "11\t0\tFalse\tFalse\t0.00\t0.00\tTrue\t1.00\t1.00\n",
      "11\t1\tFalse\tFalse\t0.00\t0.00\tTrue\t1.00\t1.00\n",
      "11\t2\tTrue\tTrue\t60.29\t25.19\tTrue\t1.00\t0.14\n"
     ]
    }
   ],
   "source": [
    "in_file_path = pathlib.Path(\"..\") / \"data\" / \"science_birds\" / \"tests\" / \"eval_trial0_results.json\"\n",
    "\n",
    "DEL = \"\\t\"\n",
    "with open(in_file_path,\"r\") as in_file:\n",
    "    json_obj = json.load(in_file)\n",
    "    \n",
    "    headers = (\"trial\",\"level\",\"is_novel\", \"pddl_pred\", \"pddl_avg\", \"pddl_max\", \"cnn_pred\", \"cnn_avg\", \"cnn_max\")\n",
    "    print(DEL.join(headers))\n",
    "    \n",
    "    for i, trial in enumerate(json_obj):\n",
    "        levels = item['levels']\n",
    "        overall = item['overall']\n",
    "        for level_idx, level in enumerate(levels):\n",
    "            is_novel = \"novelty_level_0\" in level['level']\n",
    "            cnn_prob_str = [\"{:.2f}\".format(prob) for prob in level['nn_novelty_likelihood']]\n",
    "            pddl_prob_str = [\"{:.2f}\".format(prob) for prob in level['pddl_novelty_likelihood']]\n",
    "            probs = level['nn_novelty_likelihood']\n",
    "            max_cnn_value = max(probs)\n",
    "            avg_cnn_value = sum(probs)/len(probs)\n",
    "            cnn_prediction = max_value>0.5\n",
    "\n",
    "            probs = level['pddl_novelty_likelihood']\n",
    "            max_pddl_value = max(probs)\n",
    "            avg_pddl_value = sum(probs)/len(probs)\n",
    "            pddl_detection =  max_pddl_value>50\n",
    "            \n",
    "            values = (is_novel, pddl_detection, max_pddl_value, avg_pddl_value,\n",
    "                        cnn_prediction, max_cnn_value, avg_cnn_value )\n",
    "\n",
    "            print(DEL.join((str(i), str(level_idx), str(is_novel),str(pddl_detection),\"{:.2f}\".format(max_pddl_value),\"{:.2f}\".format(avg_pddl_value),str(cnn_prediction),\"{:.2f}\".format(max_cnn_value),\"{:.2f}\".format(avg_cnn_value))))\n"
   ]
  },
  {
   "cell_type": "code",
   "execution_count": null,
   "metadata": {},
   "outputs": [],
   "source": []
  },
  {
   "cell_type": "code",
   "execution_count": null,
   "metadata": {},
   "outputs": [],
   "source": []
  }
 ],
 "metadata": {
  "kernelspec": {
   "display_name": "Python 3",
   "language": "python",
   "name": "python3"
  },
  "language_info": {
   "codemirror_mode": {
    "name": "ipython",
    "version": 3
   },
   "file_extension": ".py",
   "mimetype": "text/x-python",
   "name": "python",
   "nbconvert_exporter": "python",
   "pygments_lexer": "ipython3",
   "version": "3.8.3"
  }
 },
 "nbformat": 4,
 "nbformat_minor": 4
}

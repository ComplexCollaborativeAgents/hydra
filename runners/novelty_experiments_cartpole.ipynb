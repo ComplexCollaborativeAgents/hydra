{
 "cells": [
  {
   "cell_type": "code",
   "execution_count": 35,
   "metadata": {},
   "outputs": [],
   "source": [
    "import pandas, numpy\n",
    "from novelty_experiment_runner_cartpole import NoveltyExperimentRunnerCartpole\n",
    "from os import path\n",
    "import settings\n",
    "import constants\n"
   ]
  },
  {
   "cell_type": "code",
   "execution_count": 36,
   "metadata": {},
   "outputs": [],
   "source": [
    "results_file = open(path.join(settings.ROOT_PATH, \"data\", \"cartpole\", \"test\", \"repairing_test_wsu_copy.csv\"), \"r\")\n"
   ]
  },
  {
   "cell_type": "code",
   "execution_count": 37,
   "metadata": {
    "pycharm": {
     "name": "#%%\n"
    }
   },
   "outputs": [],
   "source": [
    "dataframe = pandas.read_csv(results_file)"
   ]
  },
  {
   "cell_type": "code",
   "execution_count": 38,
   "metadata": {
    "pycharm": {
     "name": "#%%\n"
    }
   },
   "outputs": [],
   "source": [
    "dataframe['is_novel'] = numpy.where(dataframe['novelty_probability'] < dataframe['novelty_threshold'], False, True)"
   ]
  },
  {
   "cell_type": "code",
   "execution_count": 39,
   "metadata": {
    "pycharm": {
     "name": "#%%\n"
    }
   },
   "outputs": [],
   "source": [
    "dataframe['TN'] = numpy.where( (dataframe['type'] == constants.NON_NOVELTY_PERFORMANCE) & (dataframe['is_novel'] == False), 1, 0)\n",
    "dataframe['FP'] = numpy.where((dataframe['type'] == constants.NON_NOVELTY_PERFORMANCE) & (dataframe['is_novel'] == True), 1, 0)\n",
    "dataframe['TP'] = numpy.where((((dataframe['type'] == constants.UNKNOWN_NOVELTY) | (dataframe['type'] == constants.KNOWN_NOVELTY)) & (dataframe['is_novel'] == True)),\n",
    "                                      1, 0)\n",
    "dataframe['FN'] = numpy.where((((dataframe['type'] == constants.UNKNOWN_NOVELTY) | (dataframe['type'] == constants.KNOWN_NOVELTY)) & (dataframe['is_novel'] == False)),\n",
    "                                      1, 0)\n"
   ]
  },
  {
   "cell_type": "code",
   "execution_count": 40,
   "metadata": {
    "pycharm": {
     "name": "#%%\n"
    }
   },
   "outputs": [
    {
     "name": "stdout",
     "output_type": "stream",
     "text": [
      "    Unnamed: 0  trial_num  episode_num                     type  \\\n",
      "0            0          0            0  non-novelty-performance   \n",
      "1            0          0            1  non-novelty-performance   \n",
      "2            0          0            2  non-novelty-performance   \n",
      "3            0          0            3          unknown-novelty   \n",
      "4            0          0            4          unknown-novelty   \n",
      "5            0          0            5          unknown-novelty   \n",
      "6            0          0            3            known-novelty   \n",
      "7            0          0            4            known-novelty   \n",
      "8            0          0            5            known-novelty   \n",
      "9            0          1            0  non-novelty-performance   \n",
      "10           0          1            1  non-novelty-performance   \n",
      "11           0          1            2  non-novelty-performance   \n",
      "12           0          1            3          unknown-novelty   \n",
      "13           0          1            4          unknown-novelty   \n",
      "14           0          1            5          unknown-novelty   \n",
      "15           0          1            3            known-novelty   \n",
      "16           0          1            4            known-novelty   \n",
      "17           0          1            5            known-novelty   \n",
      "\n",
      "    novelty_probability  novelty_threshold  novelty novelty_characterization  \\\n",
      "0              0.387413           0.999999        0                  nothing   \n",
      "1              0.459989           0.999999        0                  nothing   \n",
      "2              0.459989           0.999999        0                  nothing   \n",
      "3              0.345895           0.999999        0                  nothing   \n",
      "4              0.482274           0.999999        0                  nothing   \n",
      "5              0.482274           0.999999        0                  nothing   \n",
      "6              0.493556           0.999999        0                  nothing   \n",
      "7              0.493556           0.999999        0                  nothing   \n",
      "8              0.493556           0.999999        0                  nothing   \n",
      "9              0.434454           0.999999        0                  nothing   \n",
      "10             0.434454           0.999999        0                  nothing   \n",
      "11             0.479684           0.999999        0                  nothing   \n",
      "12             0.561037           0.999999        0                  nothing   \n",
      "13             0.561037           0.999999        0                  nothing   \n",
      "14             0.561037           0.999999        0                  nothing   \n",
      "15             0.415884           0.999999        0                  nothing   \n",
      "16             0.493814           0.999999        0                  nothing   \n",
      "17             0.493814           0.999999        0                  nothing   \n",
      "\n",
      "    performance  level    param  value  is_novel  TN  FP  TP  FN  \n",
      "0         200.0    2.0  gravity   10.0     False   1   0   0   0  \n",
      "1         200.0    2.0  gravity   10.0     False   1   0   0   0  \n",
      "2         200.0    2.0  gravity   10.0     False   1   0   0   0  \n",
      "3         200.0    2.0  gravity   10.0     False   0   0   0   1  \n",
      "4         200.0    2.0  gravity   10.0     False   0   0   0   1  \n",
      "5         200.0    2.0  gravity   10.0     False   0   0   0   1  \n",
      "6         200.0    2.0  gravity   10.0     False   0   0   0   1  \n",
      "7         200.0    2.0  gravity   10.0     False   0   0   0   1  \n",
      "8         200.0    2.0  gravity   10.0     False   0   0   0   1  \n",
      "9         200.0    2.0  gravity   10.0     False   1   0   0   0  \n",
      "10        200.0    2.0  gravity   10.0     False   1   0   0   0  \n",
      "11        200.0    2.0  gravity   10.0     False   1   0   0   0  \n",
      "12        200.0    2.0  gravity   10.0     False   0   0   0   1  \n",
      "13        200.0    2.0  gravity   10.0     False   0   0   0   1  \n",
      "14        200.0    2.0  gravity   10.0     False   0   0   0   1  \n",
      "15        200.0    2.0  gravity   10.0     False   0   0   0   1  \n",
      "16        200.0    2.0  gravity   10.0     False   0   0   0   1  \n",
      "17        200.0    2.0  gravity   10.0     False   0   0   0   1  \n"
     ]
    }
   ],
   "source": [
    "print(dataframe)"
   ]
  },
  {
   "cell_type": "markdown",
   "metadata": {},
   "source": [
    "1. Create trial groups"
   ]
  },
  {
   "cell_type": "code",
   "execution_count": 48,
   "metadata": {},
   "outputs": [],
   "source": [
    "trials = dataframe[['trial_num', 'FN', 'FP', 'TN', 'TP', 'performance']].groupby('trial_num').agg({'FN': numpy.sum, 'FP': numpy.sum, 'TN': numpy.sum, 'TP': numpy.sum, 'performance': numpy.mean})"
   ]
  },
  {
   "cell_type": "code",
   "execution_count": 51,
   "metadata": {},
   "outputs": [],
   "source": [
    "trials['is_CDT'] = numpy.where((trials['TP'] > 1) & (trials['FP'] ==0), True, False)"
   ]
  },
  {
   "cell_type": "code",
   "execution_count": 52,
   "metadata": {},
   "outputs": [
    {
     "name": "stdout",
     "output_type": "stream",
     "text": [
      "           FN  FP  TN  TP  performance  is_CDT\n",
      "trial_num                                     \n",
      "0           6   0   3   0        200.0   False\n",
      "1           6   0   3   0        200.0   False\n"
     ]
    }
   ],
   "source": [
    "print(trials)"
   ]
  },
  {
   "cell_type": "code",
   "execution_count": 53,
   "metadata": {},
   "outputs": [],
   "source": [
    "CDT_trials = trials[trials['is_CDT'] == False]"
   ]
  },
  {
   "cell_type": "code",
   "execution_count": 54,
   "metadata": {},
   "outputs": [
    {
     "name": "stdout",
     "output_type": "stream",
     "text": [
      "           FN  FP  TN  TP  performance  is_CDT\n",
      "trial_num                                     \n",
      "0           6   0   3   0        200.0   False\n",
      "1           6   0   3   0        200.0   False\n"
     ]
    }
   ],
   "source": [
    "print(CDT_trials)"
   ]
  },
  {
   "cell_type": "code",
   "execution_count": 55,
   "metadata": {},
   "outputs": [
    {
     "name": "stdout",
     "output_type": "stream",
     "text": [
      "M1 is 6.0\n"
     ]
    }
   ],
   "source": [
    "M1 = CDT_trials['FN'].mean()\n",
    "print(\"M1 is {}\".format(M1))"
   ]
  },
  {
   "cell_type": "code",
   "execution_count": 56,
   "metadata": {},
   "outputs": [
    {
     "name": "stdout",
     "output_type": "stream",
     "text": [
      "M2 is 1.0\n"
     ]
    }
   ],
   "source": [
    "M2 = len(CDT_trials)/len(pandas.unique(dataframe['trial_num']))\n",
    "print(\"M2 is {}\".format(M2))"
   ]
  },
  {
   "cell_type": "code",
   "execution_count": null,
   "metadata": {},
   "outputs": [],
   "source": []
  }
 ],
 "metadata": {
  "kernelspec": {
   "display_name": "Python 3",
   "language": "python",
   "name": "python3"
  },
  "language_info": {
   "codemirror_mode": {
    "name": "ipython",
    "version": 3
   },
   "file_extension": ".py",
   "mimetype": "text/x-python",
   "name": "python",
   "nbconvert_exporter": "python",
   "pygments_lexer": "ipython3",
   "version": "3.7.10"
  }
 },
 "nbformat": 4,
 "nbformat_minor": 4
}

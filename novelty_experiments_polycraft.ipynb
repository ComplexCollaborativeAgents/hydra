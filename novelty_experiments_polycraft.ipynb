{
 "cells": [
  {
   "cell_type": "code",
   "execution_count": 1,
   "metadata": {},
   "outputs": [],
   "source": [
    "import os"
   ]
  },
  {
   "cell_type": "code",
   "execution_count": 2,
   "metadata": {},
   "outputs": [
    {
     "name": "stdout",
     "output_type": "stream",
     "text": [
      "importing local settings\n"
     ]
    }
   ],
   "source": [
    "import pandas, numpy\n",
    "from runners.novelty_experiment_runner_polycraft import NoveltyExperimentRunnerPolycraft\n",
    "from os import path\n",
    "import settings\n",
    "from runners import constants\n",
    "import seaborn as sns\n",
    "import matplotlib.pyplot as plt"
   ]
  },
  {
   "cell_type": "markdown",
   "metadata": {},
   "source": [
    "# Novelty experiment "
   ]
  },
  {
   "cell_type": "code",
   "execution_count": 4,
   "metadata": {},
   "outputs": [],
   "source": [
    "results_file_1 = open(path.join(settings.ROOT_PATH, \"runners\", \"experiments\", \"Polycraft\", \"novelty_results.csv\"), \"r\")\n",
    "dataframe1 = NoveltyExperimentRunnerPolycraft.categorize_examples_for_predicted_novel(pandas.read_csv(results_file_1))\n"
   ]
  },
  {
   "cell_type": "code",
   "execution_count": 5,
   "metadata": {},
   "outputs": [
    {
     "data": {
      "text/html": [
       "<div>\n",
       "<style scoped>\n",
       "    .dataframe tbody tr th:only-of-type {\n",
       "        vertical-align: middle;\n",
       "    }\n",
       "\n",
       "    .dataframe tbody tr th {\n",
       "        vertical-align: top;\n",
       "    }\n",
       "\n",
       "    .dataframe thead th {\n",
       "        text-align: right;\n",
       "    }\n",
       "</style>\n",
       "<table border=\"1\" class=\"dataframe\">\n",
       "  <thead>\n",
       "    <tr style=\"text-align: right;\">\n",
       "      <th></th>\n",
       "      <th>trial_num</th>\n",
       "      <th>trial_type</th>\n",
       "      <th>novelty_level</th>\n",
       "      <th>novelty_type</th>\n",
       "      <th>novelty_subtype</th>\n",
       "      <th>episode_type</th>\n",
       "      <th>episode_num</th>\n",
       "      <th>novelty_probability</th>\n",
       "      <th>novelty_threshold</th>\n",
       "      <th>novelty</th>\n",
       "      <th>...</th>\n",
       "      <th>pass</th>\n",
       "      <th>num_repairs</th>\n",
       "      <th>repair_time</th>\n",
       "      <th>pddl_novelty_likelihood</th>\n",
       "      <th>unknown_object</th>\n",
       "      <th>reward_estimator_likelihood</th>\n",
       "      <th>TN</th>\n",
       "      <th>FP</th>\n",
       "      <th>TP</th>\n",
       "      <th>FN</th>\n",
       "    </tr>\n",
       "  </thead>\n",
       "  <tbody>\n",
       "    <tr>\n",
       "      <th>0</th>\n",
       "      <td>0</td>\n",
       "      <td>unknown</td>\n",
       "      <td>POGO</td>\n",
       "      <td>L01</td>\n",
       "      <td>T01</td>\n",
       "      <td>non-novelty-performance</td>\n",
       "      <td>0</td>\n",
       "      <td>0.0</td>\n",
       "      <td>None</td>\n",
       "      <td>None</td>\n",
       "      <td>...</td>\n",
       "      <td>True</td>\n",
       "      <td>0</td>\n",
       "      <td>[]</td>\n",
       "      <td>NaN</td>\n",
       "      <td>NaN</td>\n",
       "      <td>NaN</td>\n",
       "      <td>1</td>\n",
       "      <td>0</td>\n",
       "      <td>0</td>\n",
       "      <td>0</td>\n",
       "    </tr>\n",
       "    <tr>\n",
       "      <th>1</th>\n",
       "      <td>0</td>\n",
       "      <td>unknown</td>\n",
       "      <td>POGO</td>\n",
       "      <td>L01</td>\n",
       "      <td>T01</td>\n",
       "      <td>non-novelty-performance</td>\n",
       "      <td>1</td>\n",
       "      <td>0.0</td>\n",
       "      <td>None</td>\n",
       "      <td>None</td>\n",
       "      <td>...</td>\n",
       "      <td>True</td>\n",
       "      <td>0</td>\n",
       "      <td>[]</td>\n",
       "      <td>NaN</td>\n",
       "      <td>NaN</td>\n",
       "      <td>NaN</td>\n",
       "      <td>1</td>\n",
       "      <td>0</td>\n",
       "      <td>0</td>\n",
       "      <td>0</td>\n",
       "    </tr>\n",
       "    <tr>\n",
       "      <th>2</th>\n",
       "      <td>0</td>\n",
       "      <td>unknown</td>\n",
       "      <td>POGO</td>\n",
       "      <td>L01</td>\n",
       "      <td>T01</td>\n",
       "      <td>non-novelty-performance</td>\n",
       "      <td>2</td>\n",
       "      <td>0.0</td>\n",
       "      <td>None</td>\n",
       "      <td>None</td>\n",
       "      <td>...</td>\n",
       "      <td>True</td>\n",
       "      <td>0</td>\n",
       "      <td>[]</td>\n",
       "      <td>NaN</td>\n",
       "      <td>NaN</td>\n",
       "      <td>NaN</td>\n",
       "      <td>1</td>\n",
       "      <td>0</td>\n",
       "      <td>0</td>\n",
       "      <td>0</td>\n",
       "    </tr>\n",
       "    <tr>\n",
       "      <th>3</th>\n",
       "      <td>0</td>\n",
       "      <td>unknown</td>\n",
       "      <td>POGO</td>\n",
       "      <td>L01</td>\n",
       "      <td>T01</td>\n",
       "      <td>novelty</td>\n",
       "      <td>3</td>\n",
       "      <td>0.0</td>\n",
       "      <td>None</td>\n",
       "      <td>None</td>\n",
       "      <td>...</td>\n",
       "      <td>True</td>\n",
       "      <td>1</td>\n",
       "      <td>[32.58432399498997]</td>\n",
       "      <td>NaN</td>\n",
       "      <td>NaN</td>\n",
       "      <td>NaN</td>\n",
       "      <td>0</td>\n",
       "      <td>0</td>\n",
       "      <td>0</td>\n",
       "      <td>1</td>\n",
       "    </tr>\n",
       "    <tr>\n",
       "      <th>4</th>\n",
       "      <td>0</td>\n",
       "      <td>unknown</td>\n",
       "      <td>POGO</td>\n",
       "      <td>L01</td>\n",
       "      <td>T01</td>\n",
       "      <td>novelty</td>\n",
       "      <td>4</td>\n",
       "      <td>0.0</td>\n",
       "      <td>None</td>\n",
       "      <td>None</td>\n",
       "      <td>...</td>\n",
       "      <td>True</td>\n",
       "      <td>0</td>\n",
       "      <td>[]</td>\n",
       "      <td>NaN</td>\n",
       "      <td>NaN</td>\n",
       "      <td>NaN</td>\n",
       "      <td>0</td>\n",
       "      <td>0</td>\n",
       "      <td>0</td>\n",
       "      <td>1</td>\n",
       "    </tr>\n",
       "  </tbody>\n",
       "</table>\n",
       "<p>5 rows × 23 columns</p>\n",
       "</div>"
      ],
      "text/plain": [
       "   trial_num trial_type novelty_level novelty_type novelty_subtype  \\\n",
       "0          0    unknown          POGO          L01             T01   \n",
       "1          0    unknown          POGO          L01             T01   \n",
       "2          0    unknown          POGO          L01             T01   \n",
       "3          0    unknown          POGO          L01             T01   \n",
       "4          0    unknown          POGO          L01             T01   \n",
       "\n",
       "              episode_type  episode_num  novelty_probability  \\\n",
       "0  non-novelty-performance            0                  0.0   \n",
       "1  non-novelty-performance            1                  0.0   \n",
       "2  non-novelty-performance            2                  0.0   \n",
       "3                  novelty            3                  0.0   \n",
       "4                  novelty            4                  0.0   \n",
       "\n",
       "  novelty_threshold novelty  ...  pass  num_repairs          repair_time  \\\n",
       "0              None    None  ...  True            0                   []   \n",
       "1              None    None  ...  True            0                   []   \n",
       "2              None    None  ...  True            0                   []   \n",
       "3              None    None  ...  True            1  [32.58432399498997]   \n",
       "4              None    None  ...  True            0                   []   \n",
       "\n",
       "   pddl_novelty_likelihood  unknown_object reward_estimator_likelihood  TN  \\\n",
       "0                      NaN             NaN                         NaN   1   \n",
       "1                      NaN             NaN                         NaN   1   \n",
       "2                      NaN             NaN                         NaN   1   \n",
       "3                      NaN             NaN                         NaN   0   \n",
       "4                      NaN             NaN                         NaN   0   \n",
       "\n",
       "   FP  TP  FN  \n",
       "0   0   0   0  \n",
       "1   0   0   0  \n",
       "2   0   0   0  \n",
       "3   0   0   1  \n",
       "4   0   0   1  \n",
       "\n",
       "[5 rows x 23 columns]"
      ]
     },
     "execution_count": 5,
     "metadata": {},
     "output_type": "execute_result"
    }
   ],
   "source": [
    "dataframe1"
   ]
  },
  {
   "cell_type": "code",
   "execution_count": 6,
   "metadata": {},
   "outputs": [
    {
     "name": "stdout",
     "output_type": "stream",
     "text": [
      "                      FN  FP  TN  TP  performance  passed  is_CDT\n",
      "trial_type trial_num                                             \n",
      "unknown    0           2   0   3   0    127894.84       0   False\n",
      "Empty DataFrame\n",
      "Columns: [FN, FP, TN, TP, performance, passed, is_CDT]\n",
      "Index: []\n"
     ]
    },
    {
     "name": "stderr",
     "output_type": "stream",
     "text": [
      "/home/jale/hydra/runners/novelty_experiment_runner_polycraft.py:156: SettingWithCopyWarning: \n",
      "A value is trying to be set on a copy of a slice from a DataFrame.\n",
      "Try using .loc[row_indexer,col_indexer] = value instead\n",
      "\n",
      "See the caveats in the documentation: https://pandas.pydata.org/pandas-docs/stable/user_guide/indexing.html#returning-a-view-versus-a-copy\n",
      "  trials['passed'] = np.where(trials['pass'] == 'Pass', 1, 0)\n"
     ]
    }
   ],
   "source": [
    "trials,cdt = NoveltyExperimentRunnerPolycraft.get_trials_summary(dataframe1)\n",
    "print(trials)\n",
    "print(cdt)"
   ]
  }
 ],
 "metadata": {
  "interpreter": {
   "hash": "8ee4fcc74aff94bc0d32871efddaeb34d6ea46107d375c4a238db54a517bf05c"
  },
  "kernelspec": {
   "display_name": "PyCharm (hydra)",
   "language": "python",
   "name": "python3"
  },
  "language_info": {
   "codemirror_mode": {
    "name": "ipython",
    "version": 3
   },
   "file_extension": ".py",
   "mimetype": "text/x-python",
   "name": "python",
   "nbconvert_exporter": "python",
   "pygments_lexer": "ipython3",
   "version": "3.7.11"
  },
  "metadata": {
   "interpreter": {
    "hash": "920a4519ea2ea0783c81a48797f955d7e20d82b4c7ccd6a4ef031c487e759646"
   }
  }
 },
 "nbformat": 4,
 "nbformat_minor": 4
}

{
 "cells": [
  {
   "cell_type": "code",
   "execution_count": 1,
   "metadata": {},
   "outputs": [],
   "source": [
    "import os"
   ]
  },
  {
   "cell_type": "code",
   "execution_count": 2,
   "metadata": {},
   "outputs": [
    {
     "name": "stdout",
     "output_type": "stream",
     "text": [
      "importing local settings\n"
     ]
    }
   ],
   "source": [
    "import pandas, numpy\n",
    "from runners.novelty_experiment_runner_polycraft import NoveltyExperimentRunnerPolycraft\n",
    "from os import path\n",
    "import settings\n",
    "from runners import constants\n",
    "import seaborn as sns\n",
    "import matplotlib.pyplot as plt"
   ]
  },
  {
   "cell_type": "markdown",
   "metadata": {},
   "source": [
    "# Novelty experiment "
   ]
  },
  {
   "cell_type": "code",
   "execution_count": 3,
   "metadata": {},
   "outputs": [],
   "source": [
    "results_file_1 = open(path.join(settings.ROOT_PATH, \"runners\", \"experiments\", \"Polycraft\", \"novelty_results.csv\"), \"r\")\n",
    "dataframe1 = NoveltyExperimentRunnerPolycraft.categorize_examples_for_predicted_novel(pandas.read_csv(results_file_1))\n"
   ]
  },
  {
   "cell_type": "code",
   "execution_count": 4,
   "metadata": {},
   "outputs": [
    {
     "data": {
      "text/html": [
       "<div>\n",
       "<style scoped>\n",
       "    .dataframe tbody tr th:only-of-type {\n",
       "        vertical-align: middle;\n",
       "    }\n",
       "\n",
       "    .dataframe tbody tr th {\n",
       "        vertical-align: top;\n",
       "    }\n",
       "\n",
       "    .dataframe thead th {\n",
       "        text-align: right;\n",
       "    }\n",
       "</style>\n",
       "<table border=\"1\" class=\"dataframe\">\n",
       "  <thead>\n",
       "    <tr style=\"text-align: right;\">\n",
       "      <th></th>\n",
       "      <th></th>\n",
       "      <th></th>\n",
       "      <th></th>\n",
       "      <th></th>\n",
       "      <th>trial_type</th>\n",
       "      <th>episode_type</th>\n",
       "      <th>novelty_level</th>\n",
       "      <th>novelty_type</th>\n",
       "      <th>novelty_subtype</th>\n",
       "      <th>novelty_threshold</th>\n",
       "      <th>episode_start_time</th>\n",
       "      <th>planning_time</th>\n",
       "      <th>explored_states</th>\n",
       "      <th>repair_calls</th>\n",
       "      <th>...</th>\n",
       "      <th>pddl_prob</th>\n",
       "      <th>reward_prob</th>\n",
       "      <th>novelty_detection</th>\n",
       "      <th>novelty_characterization</th>\n",
       "      <th>failed_actions</th>\n",
       "      <th>actions_since_planning</th>\n",
       "      <th>TN</th>\n",
       "      <th>FP</th>\n",
       "      <th>TP</th>\n",
       "      <th>FN</th>\n",
       "    </tr>\n",
       "  </thead>\n",
       "  <tbody>\n",
       "    <tr>\n",
       "      <th rowspan=\"3\" valign=\"top\">unknown</th>\n",
       "      <th>non-novelty-performance</th>\n",
       "      <th>POGO</th>\n",
       "      <th>L01</th>\n",
       "      <th>T01</th>\n",
       "      <td>None</td>\n",
       "      <td>1.663274e+09</td>\n",
       "      <td>0.734871</td>\n",
       "      <td>59</td>\n",
       "      <td>0</td>\n",
       "      <td>0.000000</td>\n",
       "      <td>6</td>\n",
       "      <td>False</td>\n",
       "      <td>True</td>\n",
       "      <td>-1.0</td>\n",
       "      <td>...</td>\n",
       "      <td>18</td>\n",
       "      <td>0_3_POGO_L01_T01_S01_E</td>\n",
       "      <td>0.0</td>\n",
       "      <td>/home/jale/hydra/bin/pal/pogo_100_PN/POGO_L00_...</td>\n",
       "      <td>0.0</td>\n",
       "      <td>133615.5</td>\n",
       "      <td>0</td>\n",
       "      <td>0</td>\n",
       "      <td>0</td>\n",
       "      <td>0</td>\n",
       "    </tr>\n",
       "    <tr>\n",
       "      <th rowspan=\"2\" valign=\"top\">novelty</th>\n",
       "      <th rowspan=\"2\" valign=\"top\">POGO</th>\n",
       "      <th rowspan=\"2\" valign=\"top\">L01</th>\n",
       "      <th>T01</th>\n",
       "      <td>None</td>\n",
       "      <td>1.663274e+09</td>\n",
       "      <td>2.557697</td>\n",
       "      <td>305</td>\n",
       "      <td>1</td>\n",
       "      <td>37.359143</td>\n",
       "      <td>6</td>\n",
       "      <td>False</td>\n",
       "      <td>True</td>\n",
       "      <td>-1.0</td>\n",
       "      <td>...</td>\n",
       "      <td>18</td>\n",
       "      <td>0_3_POGO_L01_T01_S01_E</td>\n",
       "      <td>0.0</td>\n",
       "      <td>/home/jale/hydra/bin/pal/shared_novelty/POGO/P...</td>\n",
       "      <td>1.0</td>\n",
       "      <td>129345.5</td>\n",
       "      <td>0</td>\n",
       "      <td>0</td>\n",
       "      <td>0</td>\n",
       "      <td>0</td>\n",
       "    </tr>\n",
       "    <tr>\n",
       "      <th>T01</th>\n",
       "      <td>None</td>\n",
       "      <td>1.663274e+09</td>\n",
       "      <td>0.449208</td>\n",
       "      <td>2</td>\n",
       "      <td>0</td>\n",
       "      <td>0.000000</td>\n",
       "      <td>2</td>\n",
       "      <td>False</td>\n",
       "      <td>True</td>\n",
       "      <td>-1.0</td>\n",
       "      <td>...</td>\n",
       "      <td>15</td>\n",
       "      <td>0_3_POGO_L01_T01_S01_E</td>\n",
       "      <td>0.0</td>\n",
       "      <td>/home/jale/hydra/bin/pal/shared_novelty/POGO/P...</td>\n",
       "      <td>2.0</td>\n",
       "      <td>116767.8</td>\n",
       "      <td>0</td>\n",
       "      <td>0</td>\n",
       "      <td>0</td>\n",
       "      <td>0</td>\n",
       "    </tr>\n",
       "  </tbody>\n",
       "</table>\n",
       "<p>3 rows × 25 columns</p>\n",
       "</div>"
      ],
      "text/plain": [
       "                                             trial_type  episode_type  \\\n",
       "unknown non-novelty-performance POGO L01 T01       None  1.663274e+09   \n",
       "        novelty                 POGO L01 T01       None  1.663274e+09   \n",
       "                                         T01       None  1.663274e+09   \n",
       "\n",
       "                                              novelty_level  novelty_type  \\\n",
       "unknown non-novelty-performance POGO L01 T01       0.734871            59   \n",
       "        novelty                 POGO L01 T01       2.557697           305   \n",
       "                                         T01       0.449208             2   \n",
       "\n",
       "                                              novelty_subtype  \\\n",
       "unknown non-novelty-performance POGO L01 T01                0   \n",
       "        novelty                 POGO L01 T01                1   \n",
       "                                         T01                0   \n",
       "\n",
       "                                              novelty_threshold  \\\n",
       "unknown non-novelty-performance POGO L01 T01           0.000000   \n",
       "        novelty                 POGO L01 T01          37.359143   \n",
       "                                         T01           0.000000   \n",
       "\n",
       "                                              episode_start_time  \\\n",
       "unknown non-novelty-performance POGO L01 T01                   6   \n",
       "        novelty                 POGO L01 T01                   6   \n",
       "                                         T01                   2   \n",
       "\n",
       "                                              planning_time  explored_states  \\\n",
       "unknown non-novelty-performance POGO L01 T01          False             True   \n",
       "        novelty                 POGO L01 T01          False             True   \n",
       "                                         T01          False             True   \n",
       "\n",
       "                                              repair_calls  ...  pddl_prob  \\\n",
       "unknown non-novelty-performance POGO L01 T01          -1.0  ...         18   \n",
       "        novelty                 POGO L01 T01          -1.0  ...         18   \n",
       "                                         T01          -1.0  ...         15   \n",
       "\n",
       "                                                         reward_prob  \\\n",
       "unknown non-novelty-performance POGO L01 T01  0_3_POGO_L01_T01_S01_E   \n",
       "        novelty                 POGO L01 T01  0_3_POGO_L01_T01_S01_E   \n",
       "                                         T01  0_3_POGO_L01_T01_S01_E   \n",
       "\n",
       "                                              novelty_detection  \\\n",
       "unknown non-novelty-performance POGO L01 T01                0.0   \n",
       "        novelty                 POGO L01 T01                0.0   \n",
       "                                         T01                0.0   \n",
       "\n",
       "                                                                       novelty_characterization  \\\n",
       "unknown non-novelty-performance POGO L01 T01  /home/jale/hydra/bin/pal/pogo_100_PN/POGO_L00_...   \n",
       "        novelty                 POGO L01 T01  /home/jale/hydra/bin/pal/shared_novelty/POGO/P...   \n",
       "                                         T01  /home/jale/hydra/bin/pal/shared_novelty/POGO/P...   \n",
       "\n",
       "                                              failed_actions  \\\n",
       "unknown non-novelty-performance POGO L01 T01             0.0   \n",
       "        novelty                 POGO L01 T01             1.0   \n",
       "                                         T01             2.0   \n",
       "\n",
       "                                              actions_since_planning TN  FP  \\\n",
       "unknown non-novelty-performance POGO L01 T01                133615.5  0   0   \n",
       "        novelty                 POGO L01 T01                129345.5  0   0   \n",
       "                                         T01                116767.8  0   0   \n",
       "\n",
       "                                             TP  FN  \n",
       "unknown non-novelty-performance POGO L01 T01  0   0  \n",
       "        novelty                 POGO L01 T01  0   0  \n",
       "                                         T01  0   0  \n",
       "\n",
       "[3 rows x 25 columns]"
      ]
     },
     "execution_count": 4,
     "metadata": {},
     "output_type": "execute_result"
    }
   ],
   "source": [
    "dataframe1"
   ]
  },
  {
   "cell_type": "code",
   "execution_count": 5,
   "metadata": {},
   "outputs": [
    {
     "ename": "KeyError",
     "evalue": "\"['trial_num', 'performance'] not in index\"",
     "output_type": "error",
     "traceback": [
      "\u001b[0;31m---------------------------------------------------------------------------\u001b[0m",
      "\u001b[0;31mKeyError\u001b[0m                                  Traceback (most recent call last)",
      "\u001b[0;32m<ipython-input-5-ec2fd7f91fa6>\u001b[0m in \u001b[0;36m<module>\u001b[0;34m\u001b[0m\n\u001b[0;32m----> 1\u001b[0;31m \u001b[0mtrials\u001b[0m\u001b[0;34m,\u001b[0m\u001b[0mcdt\u001b[0m \u001b[0;34m=\u001b[0m \u001b[0mNoveltyExperimentRunnerPolycraft\u001b[0m\u001b[0;34m.\u001b[0m\u001b[0mget_trials_summary\u001b[0m\u001b[0;34m(\u001b[0m\u001b[0mdataframe1\u001b[0m\u001b[0;34m)\u001b[0m\u001b[0;34m\u001b[0m\u001b[0;34m\u001b[0m\u001b[0m\n\u001b[0m\u001b[1;32m      2\u001b[0m \u001b[0mprint\u001b[0m\u001b[0;34m(\u001b[0m\u001b[0mtrials\u001b[0m\u001b[0;34m)\u001b[0m\u001b[0;34m\u001b[0m\u001b[0;34m\u001b[0m\u001b[0m\n\u001b[1;32m      3\u001b[0m \u001b[0mprint\u001b[0m\u001b[0;34m(\u001b[0m\u001b[0mcdt\u001b[0m\u001b[0;34m)\u001b[0m\u001b[0;34m\u001b[0m\u001b[0;34m\u001b[0m\u001b[0m\n",
      "\u001b[0;32m~/hydra/runners/novelty_experiment_runner_polycraft.py\u001b[0m in \u001b[0;36mget_trials_summary\u001b[0;34m(dataframe)\u001b[0m\n\u001b[1;32m    199\u001b[0m     \u001b[0;32mdef\u001b[0m \u001b[0mget_trials_summary\u001b[0m\u001b[0;34m(\u001b[0m\u001b[0mdataframe\u001b[0m\u001b[0;34m)\u001b[0m\u001b[0;34m:\u001b[0m\u001b[0;34m\u001b[0m\u001b[0;34m\u001b[0m\u001b[0m\n\u001b[1;32m    200\u001b[0m         \u001b[0;31m# print(dataframe)\u001b[0m\u001b[0;34m\u001b[0m\u001b[0;34m\u001b[0m\u001b[0;34m\u001b[0m\u001b[0m\n\u001b[0;32m--> 201\u001b[0;31m         \u001b[0mtrials\u001b[0m \u001b[0;34m=\u001b[0m \u001b[0mdataframe\u001b[0m\u001b[0;34m[\u001b[0m\u001b[0;34m[\u001b[0m\u001b[0;34m'trial_num'\u001b[0m\u001b[0;34m,\u001b[0m \u001b[0;34m'trial_type'\u001b[0m\u001b[0;34m,\u001b[0m \u001b[0;34m'success'\u001b[0m\u001b[0;34m,\u001b[0m \u001b[0;34m'FN'\u001b[0m\u001b[0;34m,\u001b[0m \u001b[0;34m'FP'\u001b[0m\u001b[0;34m,\u001b[0m \u001b[0;34m'TN'\u001b[0m\u001b[0;34m,\u001b[0m \u001b[0;34m'TP'\u001b[0m\u001b[0;34m,\u001b[0m \u001b[0;34m'performance'\u001b[0m\u001b[0;34m]\u001b[0m\u001b[0;34m]\u001b[0m\u001b[0;34m\u001b[0m\u001b[0;34m\u001b[0m\u001b[0m\n\u001b[0m\u001b[1;32m    202\u001b[0m         \u001b[0mtrials\u001b[0m\u001b[0;34m[\u001b[0m\u001b[0;34m'passed'\u001b[0m\u001b[0;34m]\u001b[0m \u001b[0;34m=\u001b[0m \u001b[0mnp\u001b[0m\u001b[0;34m.\u001b[0m\u001b[0mwhere\u001b[0m\u001b[0;34m(\u001b[0m\u001b[0mtrials\u001b[0m\u001b[0;34m[\u001b[0m\u001b[0;34m'success'\u001b[0m\u001b[0;34m]\u001b[0m\u001b[0;34m,\u001b[0m \u001b[0;36m1\u001b[0m\u001b[0;34m,\u001b[0m \u001b[0;36m0\u001b[0m\u001b[0;34m)\u001b[0m\u001b[0;34m\u001b[0m\u001b[0;34m\u001b[0m\u001b[0m\n\u001b[1;32m    203\u001b[0m         \u001b[0;31m# print(trials)\u001b[0m\u001b[0;34m\u001b[0m\u001b[0;34m\u001b[0m\u001b[0;34m\u001b[0m\u001b[0m\n",
      "\u001b[0;32m~/miniconda3/envs/hydra/lib/python3.7/site-packages/pandas/core/frame.py\u001b[0m in \u001b[0;36m__getitem__\u001b[0;34m(self, key)\u001b[0m\n\u001b[1;32m   3462\u001b[0m             \u001b[0;32mif\u001b[0m \u001b[0mis_iterator\u001b[0m\u001b[0;34m(\u001b[0m\u001b[0mkey\u001b[0m\u001b[0;34m)\u001b[0m\u001b[0;34m:\u001b[0m\u001b[0;34m\u001b[0m\u001b[0;34m\u001b[0m\u001b[0m\n\u001b[1;32m   3463\u001b[0m                 \u001b[0mkey\u001b[0m \u001b[0;34m=\u001b[0m \u001b[0mlist\u001b[0m\u001b[0;34m(\u001b[0m\u001b[0mkey\u001b[0m\u001b[0;34m)\u001b[0m\u001b[0;34m\u001b[0m\u001b[0;34m\u001b[0m\u001b[0m\n\u001b[0;32m-> 3464\u001b[0;31m             \u001b[0mindexer\u001b[0m \u001b[0;34m=\u001b[0m \u001b[0mself\u001b[0m\u001b[0;34m.\u001b[0m\u001b[0mloc\u001b[0m\u001b[0;34m.\u001b[0m\u001b[0m_get_listlike_indexer\u001b[0m\u001b[0;34m(\u001b[0m\u001b[0mkey\u001b[0m\u001b[0;34m,\u001b[0m \u001b[0maxis\u001b[0m\u001b[0;34m=\u001b[0m\u001b[0;36m1\u001b[0m\u001b[0;34m)\u001b[0m\u001b[0;34m[\u001b[0m\u001b[0;36m1\u001b[0m\u001b[0;34m]\u001b[0m\u001b[0;34m\u001b[0m\u001b[0;34m\u001b[0m\u001b[0m\n\u001b[0m\u001b[1;32m   3465\u001b[0m \u001b[0;34m\u001b[0m\u001b[0m\n\u001b[1;32m   3466\u001b[0m         \u001b[0;31m# take() does not accept boolean indexers\u001b[0m\u001b[0;34m\u001b[0m\u001b[0;34m\u001b[0m\u001b[0;34m\u001b[0m\u001b[0m\n",
      "\u001b[0;32m~/miniconda3/envs/hydra/lib/python3.7/site-packages/pandas/core/indexing.py\u001b[0m in \u001b[0;36m_get_listlike_indexer\u001b[0;34m(self, key, axis)\u001b[0m\n\u001b[1;32m   1312\u001b[0m             \u001b[0mkeyarr\u001b[0m\u001b[0;34m,\u001b[0m \u001b[0mindexer\u001b[0m\u001b[0;34m,\u001b[0m \u001b[0mnew_indexer\u001b[0m \u001b[0;34m=\u001b[0m \u001b[0max\u001b[0m\u001b[0;34m.\u001b[0m\u001b[0m_reindex_non_unique\u001b[0m\u001b[0;34m(\u001b[0m\u001b[0mkeyarr\u001b[0m\u001b[0;34m)\u001b[0m\u001b[0;34m\u001b[0m\u001b[0;34m\u001b[0m\u001b[0m\n\u001b[1;32m   1313\u001b[0m \u001b[0;34m\u001b[0m\u001b[0m\n\u001b[0;32m-> 1314\u001b[0;31m         \u001b[0mself\u001b[0m\u001b[0;34m.\u001b[0m\u001b[0m_validate_read_indexer\u001b[0m\u001b[0;34m(\u001b[0m\u001b[0mkeyarr\u001b[0m\u001b[0;34m,\u001b[0m \u001b[0mindexer\u001b[0m\u001b[0;34m,\u001b[0m \u001b[0maxis\u001b[0m\u001b[0;34m)\u001b[0m\u001b[0;34m\u001b[0m\u001b[0;34m\u001b[0m\u001b[0m\n\u001b[0m\u001b[1;32m   1315\u001b[0m \u001b[0;34m\u001b[0m\u001b[0m\n\u001b[1;32m   1316\u001b[0m         if needs_i8_conversion(ax.dtype) or isinstance(\n",
      "\u001b[0;32m~/miniconda3/envs/hydra/lib/python3.7/site-packages/pandas/core/indexing.py\u001b[0m in \u001b[0;36m_validate_read_indexer\u001b[0;34m(self, key, indexer, axis)\u001b[0m\n\u001b[1;32m   1375\u001b[0m \u001b[0;34m\u001b[0m\u001b[0m\n\u001b[1;32m   1376\u001b[0m             \u001b[0mnot_found\u001b[0m \u001b[0;34m=\u001b[0m \u001b[0mlist\u001b[0m\u001b[0;34m(\u001b[0m\u001b[0mensure_index\u001b[0m\u001b[0;34m(\u001b[0m\u001b[0mkey\u001b[0m\u001b[0;34m)\u001b[0m\u001b[0;34m[\u001b[0m\u001b[0mmissing_mask\u001b[0m\u001b[0;34m.\u001b[0m\u001b[0mnonzero\u001b[0m\u001b[0;34m(\u001b[0m\u001b[0;34m)\u001b[0m\u001b[0;34m[\u001b[0m\u001b[0;36m0\u001b[0m\u001b[0;34m]\u001b[0m\u001b[0;34m]\u001b[0m\u001b[0;34m.\u001b[0m\u001b[0munique\u001b[0m\u001b[0;34m(\u001b[0m\u001b[0;34m)\u001b[0m\u001b[0;34m)\u001b[0m\u001b[0;34m\u001b[0m\u001b[0;34m\u001b[0m\u001b[0m\n\u001b[0;32m-> 1377\u001b[0;31m             \u001b[0;32mraise\u001b[0m \u001b[0mKeyError\u001b[0m\u001b[0;34m(\u001b[0m\u001b[0;34mf\"{not_found} not in index\"\u001b[0m\u001b[0;34m)\u001b[0m\u001b[0;34m\u001b[0m\u001b[0;34m\u001b[0m\u001b[0m\n\u001b[0m\u001b[1;32m   1378\u001b[0m \u001b[0;34m\u001b[0m\u001b[0m\n\u001b[1;32m   1379\u001b[0m \u001b[0;34m\u001b[0m\u001b[0m\n",
      "\u001b[0;31mKeyError\u001b[0m: \"['trial_num', 'performance'] not in index\""
     ]
    }
   ],
   "source": [
    "trials,cdt = NoveltyExperimentRunnerPolycraft.get_trials_summary(dataframe1)\n",
    "print(trials)\n",
    "print(cdt)"
   ]
  }
 ],
 "metadata": {
  "interpreter": {
   "hash": "8ee4fcc74aff94bc0d32871efddaeb34d6ea46107d375c4a238db54a517bf05c"
  },
  "kernelspec": {
   "display_name": "PyCharm (hydra)",
   "language": "python",
   "name": "python3"
  },
  "language_info": {
   "codemirror_mode": {
    "name": "ipython",
    "version": 3
   },
   "file_extension": ".py",
   "mimetype": "text/x-python",
   "name": "python",
   "nbconvert_exporter": "python",
   "pygments_lexer": "ipython3",
   "version": "3.7.11"
  },
  "metadata": {
   "interpreter": {
    "hash": "920a4519ea2ea0783c81a48797f955d7e20d82b4c7ccd6a4ef031c487e759646"
   }
  }
 },
 "nbformat": 4,
 "nbformat_minor": 4
}

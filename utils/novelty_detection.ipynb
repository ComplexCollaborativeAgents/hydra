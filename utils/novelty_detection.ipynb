{
 "cells": [
  {
   "cell_type": "code",
   "execution_count": 71,
   "metadata": {
    "pycharm": {
     "name": "#%%\n"
    }
   },
   "outputs": [],
   "source": [
    "import pandas\n",
    "import numpy\n",
    "import matplotlib.pyplot as plt\n",
    "from utils.learn_novelty_detection_ensemble import ColumnName\n",
    "from sklearn.linear_model import LogisticRegression\n",
    "from sklearn.model_selection import train_test_split\n",
    "from sklearn.metrics import classification_report, confusion_matrix\n",
    "from sklearn.ensemble import RandomForestClassifier, RandomForestRegressor\n",
    "from sklearn.ensemble import AdaBoostClassifier\n",
    "import seaborn"
   ]
  },
  {
   "cell_type": "code",
   "execution_count": 7,
   "metadata": {
    "pycharm": {
     "name": "#%%\n"
    }
   },
   "outputs": [],
   "source": [
    "dataframe_full = pandas.read_csv(\"/home/smohan/SAIL-ON/hydra/data/science_birds/novelty_detection/dataset_May2022/ensemble_learning_simple_levels_may2022.csv\")\n",
    "# feature_cols=['ColumnName.NUM_OBJECTS',\n",
    "#     'ColumnName.HAS_NOVEL_OBJECT',\n",
    "#  'ColumnName.MAX_REWARD_DIFFERENCE',\n",
    "#  'ColumnName.AVG_REWARD_DIFFERENCE',\n",
    "#  'ColumnName.MAX_PDDL_INCONSISTENCY',\n",
    "#  'ColumnName.AVG_PDDL_INCONSISTENCY']\n",
    "\n",
    "feature_cols=['ColumnName.HAS_NOVEL_OBJECT',\n",
    " 'ColumnName.MAX_REWARD_DIFFERENCE',\n",
    " 'ColumnName.AVG_REWARD_DIFFERENCE',\n",
    " 'ColumnName.MAX_PDDL_INCONSISTENCY',\n",
    " 'ColumnName.AVG_PDDL_INCONSISTENCY',\n",
    " 'ColumnName.PASS']\n",
    "\n",
    "\n",
    "dataframe_non_novelty = dataframe_full[dataframe_full['ColumnName.LEVEL'] == 0]\n",
    "dataframe_phaseI_novelty = dataframe_full[(dataframe_full['ColumnName.LEVEL'] < 10) & (dataframe_full['ColumnName.LEVEL'] > 0)]\n",
    "dataframe_phaseII_novelty = dataframe_full[dataframe_full['ColumnName.LEVEL'] > 10]\n",
    "\n"
   ]
  },
  {
   "cell_type": "code",
   "execution_count": 8,
   "metadata": {},
   "outputs": [
    {
     "data": {
      "text/html": [
       "<div>\n",
       "<style scoped>\n",
       "    .dataframe tbody tr th:only-of-type {\n",
       "        vertical-align: middle;\n",
       "    }\n",
       "\n",
       "    .dataframe tbody tr th {\n",
       "        vertical-align: top;\n",
       "    }\n",
       "\n",
       "    .dataframe thead th {\n",
       "        text-align: right;\n",
       "    }\n",
       "</style>\n",
       "<table border=\"1\" class=\"dataframe\">\n",
       "  <thead>\n",
       "    <tr style=\"text-align: right;\">\n",
       "      <th></th>\n",
       "      <th>Unnamed: 0</th>\n",
       "      <th>ColumnName.LEVEL</th>\n",
       "      <th>ColumnName.TYPE</th>\n",
       "      <th>ColumnName.NUM_OBJECTS</th>\n",
       "      <th>ColumnName.HAS_NOVEL_OBJECT</th>\n",
       "      <th>ColumnName.MAX_REWARD_DIFFERENCE</th>\n",
       "      <th>ColumnName.AVG_REWARD_DIFFERENCE</th>\n",
       "      <th>ColumnName.MAX_PDDL_INCONSISTENCY</th>\n",
       "      <th>ColumnName.AVG_PDDL_INCONSISTENCY</th>\n",
       "      <th>ColumnName.GROUND_TRUTH</th>\n",
       "      <th>ColumnName.PASS</th>\n",
       "    </tr>\n",
       "  </thead>\n",
       "  <tbody>\n",
       "    <tr>\n",
       "      <th>0</th>\n",
       "      <td>0</td>\n",
       "      <td>0</td>\n",
       "      <td>247</td>\n",
       "      <td>12</td>\n",
       "      <td>0</td>\n",
       "      <td>0.547124</td>\n",
       "      <td>0.547124</td>\n",
       "      <td>35.125359</td>\n",
       "      <td>35.125359</td>\n",
       "      <td>0</td>\n",
       "      <td>0.0</td>\n",
       "    </tr>\n",
       "    <tr>\n",
       "      <th>1</th>\n",
       "      <td>1</td>\n",
       "      <td>0</td>\n",
       "      <td>247</td>\n",
       "      <td>8</td>\n",
       "      <td>0</td>\n",
       "      <td>0.608974</td>\n",
       "      <td>0.608974</td>\n",
       "      <td>0.000000</td>\n",
       "      <td>0.000000</td>\n",
       "      <td>0</td>\n",
       "      <td>1.0</td>\n",
       "    </tr>\n",
       "    <tr>\n",
       "      <th>2</th>\n",
       "      <td>2</td>\n",
       "      <td>0</td>\n",
       "      <td>247</td>\n",
       "      <td>8</td>\n",
       "      <td>1</td>\n",
       "      <td>0.461214</td>\n",
       "      <td>0.461214</td>\n",
       "      <td>1000.000000</td>\n",
       "      <td>1000.000000</td>\n",
       "      <td>0</td>\n",
       "      <td>0.0</td>\n",
       "    </tr>\n",
       "    <tr>\n",
       "      <th>3</th>\n",
       "      <td>3</td>\n",
       "      <td>0</td>\n",
       "      <td>247</td>\n",
       "      <td>9</td>\n",
       "      <td>0</td>\n",
       "      <td>0.376372</td>\n",
       "      <td>0.376372</td>\n",
       "      <td>0.000000</td>\n",
       "      <td>0.000000</td>\n",
       "      <td>0</td>\n",
       "      <td>1.0</td>\n",
       "    </tr>\n",
       "    <tr>\n",
       "      <th>4</th>\n",
       "      <td>4</td>\n",
       "      <td>0</td>\n",
       "      <td>247</td>\n",
       "      <td>12</td>\n",
       "      <td>1</td>\n",
       "      <td>0.465131</td>\n",
       "      <td>0.465131</td>\n",
       "      <td>1000.000000</td>\n",
       "      <td>1000.000000</td>\n",
       "      <td>0</td>\n",
       "      <td>1.0</td>\n",
       "    </tr>\n",
       "    <tr>\n",
       "      <th>...</th>\n",
       "      <td>...</td>\n",
       "      <td>...</td>\n",
       "      <td>...</td>\n",
       "      <td>...</td>\n",
       "      <td>...</td>\n",
       "      <td>...</td>\n",
       "      <td>...</td>\n",
       "      <td>...</td>\n",
       "      <td>...</td>\n",
       "      <td>...</td>\n",
       "      <td>...</td>\n",
       "    </tr>\n",
       "    <tr>\n",
       "      <th>595</th>\n",
       "      <td>595</td>\n",
       "      <td>0</td>\n",
       "      <td>236</td>\n",
       "      <td>12</td>\n",
       "      <td>0</td>\n",
       "      <td>0.394727</td>\n",
       "      <td>0.394727</td>\n",
       "      <td>50.000000</td>\n",
       "      <td>50.000000</td>\n",
       "      <td>0</td>\n",
       "      <td>0.0</td>\n",
       "    </tr>\n",
       "    <tr>\n",
       "      <th>596</th>\n",
       "      <td>596</td>\n",
       "      <td>0</td>\n",
       "      <td>236</td>\n",
       "      <td>9</td>\n",
       "      <td>0</td>\n",
       "      <td>0.452896</td>\n",
       "      <td>0.452896</td>\n",
       "      <td>0.000000</td>\n",
       "      <td>0.000000</td>\n",
       "      <td>0</td>\n",
       "      <td>0.0</td>\n",
       "    </tr>\n",
       "    <tr>\n",
       "      <th>597</th>\n",
       "      <td>597</td>\n",
       "      <td>0</td>\n",
       "      <td>236</td>\n",
       "      <td>9</td>\n",
       "      <td>0</td>\n",
       "      <td>0.077887</td>\n",
       "      <td>0.077887</td>\n",
       "      <td>0.000000</td>\n",
       "      <td>0.000000</td>\n",
       "      <td>0</td>\n",
       "      <td>1.0</td>\n",
       "    </tr>\n",
       "    <tr>\n",
       "      <th>598</th>\n",
       "      <td>598</td>\n",
       "      <td>0</td>\n",
       "      <td>236</td>\n",
       "      <td>11</td>\n",
       "      <td>0</td>\n",
       "      <td>0.620848</td>\n",
       "      <td>0.620848</td>\n",
       "      <td>50.000000</td>\n",
       "      <td>50.000000</td>\n",
       "      <td>0</td>\n",
       "      <td>0.0</td>\n",
       "    </tr>\n",
       "    <tr>\n",
       "      <th>599</th>\n",
       "      <td>599</td>\n",
       "      <td>0</td>\n",
       "      <td>236</td>\n",
       "      <td>12</td>\n",
       "      <td>0</td>\n",
       "      <td>0.005063</td>\n",
       "      <td>0.005063</td>\n",
       "      <td>0.000000</td>\n",
       "      <td>0.000000</td>\n",
       "      <td>0</td>\n",
       "      <td>1.0</td>\n",
       "    </tr>\n",
       "  </tbody>\n",
       "</table>\n",
       "<p>600 rows × 11 columns</p>\n",
       "</div>"
      ],
      "text/plain": [
       "     Unnamed: 0  ColumnName.LEVEL  ColumnName.TYPE  ColumnName.NUM_OBJECTS  \\\n",
       "0             0                 0              247                      12   \n",
       "1             1                 0              247                       8   \n",
       "2             2                 0              247                       8   \n",
       "3             3                 0              247                       9   \n",
       "4             4                 0              247                      12   \n",
       "..          ...               ...              ...                     ...   \n",
       "595         595                 0              236                      12   \n",
       "596         596                 0              236                       9   \n",
       "597         597                 0              236                       9   \n",
       "598         598                 0              236                      11   \n",
       "599         599                 0              236                      12   \n",
       "\n",
       "     ColumnName.HAS_NOVEL_OBJECT  ColumnName.MAX_REWARD_DIFFERENCE  \\\n",
       "0                              0                          0.547124   \n",
       "1                              0                          0.608974   \n",
       "2                              1                          0.461214   \n",
       "3                              0                          0.376372   \n",
       "4                              1                          0.465131   \n",
       "..                           ...                               ...   \n",
       "595                            0                          0.394727   \n",
       "596                            0                          0.452896   \n",
       "597                            0                          0.077887   \n",
       "598                            0                          0.620848   \n",
       "599                            0                          0.005063   \n",
       "\n",
       "     ColumnName.AVG_REWARD_DIFFERENCE  ColumnName.MAX_PDDL_INCONSISTENCY  \\\n",
       "0                            0.547124                          35.125359   \n",
       "1                            0.608974                           0.000000   \n",
       "2                            0.461214                        1000.000000   \n",
       "3                            0.376372                           0.000000   \n",
       "4                            0.465131                        1000.000000   \n",
       "..                                ...                                ...   \n",
       "595                          0.394727                          50.000000   \n",
       "596                          0.452896                           0.000000   \n",
       "597                          0.077887                           0.000000   \n",
       "598                          0.620848                          50.000000   \n",
       "599                          0.005063                           0.000000   \n",
       "\n",
       "     ColumnName.AVG_PDDL_INCONSISTENCY  ColumnName.GROUND_TRUTH  \\\n",
       "0                            35.125359                        0   \n",
       "1                             0.000000                        0   \n",
       "2                          1000.000000                        0   \n",
       "3                             0.000000                        0   \n",
       "4                          1000.000000                        0   \n",
       "..                                 ...                      ...   \n",
       "595                          50.000000                        0   \n",
       "596                           0.000000                        0   \n",
       "597                           0.000000                        0   \n",
       "598                          50.000000                        0   \n",
       "599                           0.000000                        0   \n",
       "\n",
       "     ColumnName.PASS  \n",
       "0                0.0  \n",
       "1                1.0  \n",
       "2                0.0  \n",
       "3                1.0  \n",
       "4                1.0  \n",
       "..               ...  \n",
       "595              0.0  \n",
       "596              0.0  \n",
       "597              1.0  \n",
       "598              0.0  \n",
       "599              1.0  \n",
       "\n",
       "[600 rows x 11 columns]"
      ]
     },
     "execution_count": 8,
     "metadata": {},
     "output_type": "execute_result"
    }
   ],
   "source": [
    "dataframe_full"
   ]
  },
  {
   "cell_type": "code",
   "execution_count": 9,
   "metadata": {
    "pycharm": {
     "name": "#%%\n"
    }
   },
   "outputs": [
    {
     "name": "stderr",
     "output_type": "stream",
     "text": [
      "/home/smohan/anaconda3/envs/hydra/lib/python3.7/site-packages/sklearn/linear_model/_logistic.py:818: ConvergenceWarning: lbfgs failed to converge (status=1):\n",
      "STOP: TOTAL NO. of ITERATIONS REACHED LIMIT.\n",
      "\n",
      "Increase the number of iterations (max_iter) or scale the data as shown in:\n",
      "    https://scikit-learn.org/stable/modules/preprocessing.html\n",
      "Please also refer to the documentation for alternative solver options:\n",
      "    https://scikit-learn.org/stable/modules/linear_model.html#logistic-regression\n",
      "  extra_warning_msg=_LOGISTIC_SOLVER_CONVERGENCE_MSG,\n",
      "/home/smohan/anaconda3/envs/hydra/lib/python3.7/site-packages/sklearn/metrics/_classification.py:1308: UndefinedMetricWarning: Precision and F-score are ill-defined and being set to 0.0 in labels with no predicted samples. Use `zero_division` parameter to control this behavior.\n",
      "  _warn_prf(average, modifier, msg_start, len(result))\n",
      "/home/smohan/anaconda3/envs/hydra/lib/python3.7/site-packages/sklearn/metrics/_classification.py:1308: UndefinedMetricWarning: Precision and F-score are ill-defined and being set to 0.0 in labels with no predicted samples. Use `zero_division` parameter to control this behavior.\n",
      "  _warn_prf(average, modifier, msg_start, len(result))\n",
      "/home/smohan/anaconda3/envs/hydra/lib/python3.7/site-packages/sklearn/metrics/_classification.py:1308: UndefinedMetricWarning: Precision and F-score are ill-defined and being set to 0.0 in labels with no predicted samples. Use `zero_division` parameter to control this behavior.\n",
      "  _warn_prf(average, modifier, msg_start, len(result))\n"
     ]
    },
    {
     "name": "stdout",
     "output_type": "stream",
     "text": [
      "              precision    recall  f1-score   support\n",
      "\n",
      "           0       0.77      1.00      0.87        46\n",
      "           1       0.00      0.00      0.00        14\n",
      "\n",
      "    accuracy                           0.77        60\n",
      "   macro avg       0.38      0.50      0.43        60\n",
      "weighted avg       0.59      0.77      0.67        60\n",
      "\n",
      "              precision    recall  f1-score   support\n",
      "\n",
      "           0       0.82      0.80      0.81        46\n",
      "           1       0.40      0.43      0.41        14\n",
      "\n",
      "    accuracy                           0.72        60\n",
      "   macro avg       0.61      0.62      0.61        60\n",
      "weighted avg       0.72      0.72      0.72        60\n",
      "\n",
      "              precision    recall  f1-score   support\n",
      "\n",
      "           0       0.81      0.93      0.87        46\n",
      "           1       0.57      0.29      0.38        14\n",
      "\n",
      "    accuracy                           0.78        60\n",
      "   macro avg       0.69      0.61      0.62        60\n",
      "weighted avg       0.76      0.78      0.75        60\n",
      "\n"
     ]
    }
   ],
   "source": [
    "X2 = dataframe_full[feature_cols]\n",
    "y2 = dataframe_full['ColumnName.GROUND_TRUTH']\n",
    "X_train2,X_test2,y_train2,y_test2=train_test_split(X2,y2,test_size=0.10)\n",
    "\n",
    "\n",
    "logreg2 = LogisticRegression()\n",
    "logreg2.fit(X_train2,y_train2)\n",
    "y_pred2_log=logreg2.predict(X_test2)\n",
    "report2_log = classification_report(y_test2, y_pred2_log)\n",
    "print(report2_log)\n",
    "\n",
    "rf2 = RandomForestClassifier(n_estimators=20)\n",
    "rf2.fit(X_train2,y_train2)\n",
    "y_pred2_rf=rf2.predict(X_test2)\n",
    "report2_rf = classification_report(y_test2, y_pred2_rf)\n",
    "print(report2_rf)\n",
    "\n",
    "ab2 = AdaBoostClassifier(n_estimators=100)\n",
    "ab2.fit(X_train2,y_train2)\n",
    "y_pred2_ab=ab2.predict(X_test2)\n",
    "report2_ab = classification_report(y_test2, y_pred2_ab)\n",
    "print(report2_ab)"
   ]
  },
  {
   "cell_type": "code",
   "execution_count": null,
   "metadata": {
    "pycharm": {
     "name": "#%%\n"
    }
   },
   "outputs": [],
   "source": []
  },
  {
   "cell_type": "code",
   "execution_count": 58,
   "metadata": {
    "pycharm": {
     "name": "#%%\n"
    }
   },
   "outputs": [
    {
     "name": "stdout",
     "output_type": "stream",
     "text": [
      "              precision    recall  f1-score   support\n",
      "\n",
      "           0       0.81      0.82      0.82        90\n",
      "           1       0.59      0.57      0.58        40\n",
      "\n",
      "    accuracy                           0.75       130\n",
      "   macro avg       0.70      0.70      0.70       130\n",
      "weighted avg       0.74      0.75      0.75       130\n",
      "\n",
      "              precision    recall  f1-score   support\n",
      "\n",
      "           0       0.84      0.92      0.88        90\n",
      "           1       0.77      0.60      0.68        40\n",
      "\n",
      "    accuracy                           0.82       130\n",
      "   macro avg       0.81      0.76      0.78       130\n",
      "weighted avg       0.82      0.82      0.82       130\n",
      "\n",
      "              precision    recall  f1-score   support\n",
      "\n",
      "           0       0.81      0.90      0.85        90\n",
      "           1       0.70      0.53      0.60        40\n",
      "\n",
      "    accuracy                           0.78       130\n",
      "   macro avg       0.76      0.71      0.73       130\n",
      "weighted avg       0.78      0.78      0.77       130\n",
      "\n"
     ]
    }
   ],
   "source": [
    "dataframe3 = dataframe_non_novelty.append(dataframe_phaseII_novelty, ignore_index=True)\n",
    "X3 = dataframe3[feature_cols]\n",
    "y3 = dataframe3['ColumnName.GROUND_TRUTH']\n",
    "X_train3,X_test3,y_train3,y_test3=train_test_split(X3,y3,test_size=0.20)\n",
    "\n",
    "\n",
    "logreg3 = LogisticRegression()\n",
    "logreg3.fit(X_train3,y_train3)\n",
    "y_pred3_log=logreg3.predict(X_test3)\n",
    "report3_log = classification_report(y_test3, y_pred3_log)\n",
    "print(report3_log)\n",
    "\n",
    "\n",
    "rf3 = RandomForestClassifier(n_estimators=30)\n",
    "rf3.fit(X_train3,y_train3)\n",
    "y_pred3_rf=rf3.predict(X_test3)\n",
    "report3_rf = classification_report(y_test3, y_pred3_rf)\n",
    "print(report3_rf)\n",
    "\n",
    "ab3 = AdaBoostClassifier(n_estimators=100)\n",
    "ab3.fit(X_train3,y_train3)\n",
    "y_pred3_ab=ab3.predict(X_test3)\n",
    "report3_ab = classification_report(y_test3, y_pred3_ab)\n",
    "print(report3_ab)"
   ]
  },
  {
   "cell_type": "code",
   "execution_count": 44,
   "metadata": {
    "pycharm": {
     "name": "#%%\n"
    }
   },
   "outputs": [],
   "source": [
    "dataframe = pandas.read_csv(\"/home/smohan/SAIL-ON/hydra/data/science_birds/novelty_detection/ensemble_learning_all_levels.csv\")\n",
    "dataframe_phaseII_novelty = dataframe[dataframe['ColumnName.LEVEL'] > 10]\n",
    "dataframe_phaseI_novelty_and_non = dataframe[dataframe['ColumnName.LEVEL'] < 10]\n",
    "df_1 = dataframe_phaseII_novelty.sample(frac = 0.5)\n",
    "df_final_validation = dataframe_phaseII_novelty.drop(df_1.index)"
   ]
  },
  {
   "cell_type": "code",
   "execution_count": 45,
   "metadata": {
    "pycharm": {
     "name": "#%%\n"
    }
   },
   "outputs": [],
   "source": [
    "dataframe_final_training = dataframe_phaseI_novelty_and_non.append(df_1, ignore_index=True)"
   ]
  },
  {
   "cell_type": "code",
   "execution_count": 46,
   "metadata": {
    "pycharm": {
     "name": "#%%\n"
    }
   },
   "outputs": [],
   "source": [
    "dataframe_validation = dataframe_phaseII_novelty.sample(frac=0.5)\n",
    "dataframe_remainder = dataframe_phaseII_novelty.drop(dataframe_validation.index)\n",
    "\n",
    "dataframe_final_training = dataframe_non_novelty.append(dataframe_phaseI_novelty, ignore_index=True)\n",
    "dataframe_final_training = dataframe_final_training.append(dataframe_remainder, ignore_index=True)"
   ]
  },
  {
   "cell_type": "code",
   "execution_count": 47,
   "metadata": {
    "pycharm": {
     "name": "#%%\n"
    }
   },
   "outputs": [
    {
     "name": "stdout",
     "output_type": "stream",
     "text": [
      "              precision    recall  f1-score   support\n",
      "\n",
      "           0       0.62      0.63      0.63        84\n",
      "           1       0.79      0.78      0.78       146\n",
      "\n",
      "    accuracy                           0.73       230\n",
      "   macro avg       0.70      0.71      0.71       230\n",
      "weighted avg       0.73      0.73      0.73       230\n",
      "\n"
     ]
    }
   ],
   "source": [
    "X_final = dataframe_final_training[feature_cols]\n",
    "y_final = dataframe_final_training['ColumnName.GROUND_TRUTH']\n",
    "X_train_f,X_test_f,y_train_f,y_test_f=train_test_split(X_final, y_final,test_size=0.20)\n",
    "rf_final = RandomForestClassifier(n_estimators=20)\n",
    "rf_final.fit(X_train_f,y_train_f)\n",
    "y_pred_f_rf=rf_final.predict(X_test_f)\n",
    "report_f_rf = classification_report(y_test_f, y_pred_f_rf)\n",
    "print(report_f_rf)"
   ]
  },
  {
   "cell_type": "code",
   "execution_count": 19,
   "metadata": {
    "pycharm": {
     "name": "#%%\n"
    },
    "scrolled": true
   },
   "outputs": [
    {
     "name": "stdout",
     "output_type": "stream",
     "text": [
      "              precision    recall  f1-score   support\n",
      "\n",
      "           0       0.00      0.00      0.00         0\n",
      "           1       1.00      0.53      0.69       100\n",
      "\n",
      "    accuracy                           0.53       100\n",
      "   macro avg       0.50      0.27      0.35       100\n",
      "weighted avg       1.00      0.53      0.69       100\n",
      "\n"
     ]
    },
    {
     "name": "stderr",
     "output_type": "stream",
     "text": [
      "/home/smohan/anaconda3/envs/hydra/lib/python3.7/site-packages/sklearn/metrics/_classification.py:1245: UndefinedMetricWarning: Recall and F-score are ill-defined and being set to 0.0 in labels with no true samples. Use `zero_division` parameter to control this behavior.\n",
      "  _warn_prf(average, modifier, msg_start, len(result))\n",
      "/home/smohan/anaconda3/envs/hydra/lib/python3.7/site-packages/sklearn/metrics/_classification.py:1245: UndefinedMetricWarning: Recall and F-score are ill-defined and being set to 0.0 in labels with no true samples. Use `zero_division` parameter to control this behavior.\n",
      "  _warn_prf(average, modifier, msg_start, len(result))\n",
      "/home/smohan/anaconda3/envs/hydra/lib/python3.7/site-packages/sklearn/metrics/_classification.py:1245: UndefinedMetricWarning: Recall and F-score are ill-defined and being set to 0.0 in labels with no true samples. Use `zero_division` parameter to control this behavior.\n",
      "  _warn_prf(average, modifier, msg_start, len(result))\n"
     ]
    }
   ],
   "source": [
    "rf_final_full = RandomForestClassifier(n_estimators=20)\n",
    "rf_final_full.fit(X_final, y_final)\n",
    "\n",
    "X_validation = dataframe_validation[feature_cols]\n",
    "y_validation = dataframe_validation['ColumnName.GROUND_TRUTH']\n",
    "y_pred_validation = rf_final_full.predict(X_validation)\n",
    "report_validation = classification_report(y_validation, y_pred_validation)\n",
    "print(report_validation)"
   ]
  },
  {
   "cell_type": "code",
   "execution_count": 48,
   "metadata": {
    "pycharm": {
     "name": "#%%\n"
    }
   },
   "outputs": [
    {
     "data": {
      "image/png": "[encoded data removed]",
      "text/plain": [
       "<Figure size 432x288 with 1 Axes>"
      ]
     },
     "metadata": {
      "needs_background": "light"
     },
     "output_type": "display_data"
    }
   ],
   "source": [
    "importances = rf3.feature_importances_\n",
    "forest_importances = pandas.Series(importances, index=feature_cols)\n",
    "std = numpy.std([tree.feature_importances_ for tree in rf3.estimators_], axis=0)\n",
    "fig, ax = plt.subplots()\n",
    "forest_importances.plot.bar(yerr=std, ax=ax)\n",
    "ax.set_title(\"Feature importances using MDI\")\n",
    "#ax.set_ylabel(\"Mean decrease in impurity\")\n",
    "fig.tight_layout()"
   ]
  },
  {
   "cell_type": "code",
   "execution_count": 59,
   "metadata": {
    "pycharm": {
     "name": "#%%\n"
    }
   },
   "outputs": [],
   "source": [
    "import pickle\n",
    "with open('/home/smohan/SAIL-ON/hydra/model/ensemble.pkl', 'wb') as f:\n",
    "    pickle.dump(rf3, f)"
   ]
  },
  {
   "cell_type": "code",
   "execution_count": 24,
   "metadata": {
    "pycharm": {
     "name": "#%%\n"
    }
   },
   "outputs": [
    {
     "name": "stdout",
     "output_type": "stream",
     "text": [
      "              precision    recall  f1-score   support\n",
      "\n",
      "           0       0.74      0.70      0.72        37\n",
      "           1       0.76      0.79      0.77        43\n",
      "\n",
      "    accuracy                           0.75        80\n",
      "   macro avg       0.75      0.75      0.75        80\n",
      "weighted avg       0.75      0.75      0.75        80\n",
      "\n",
      "              precision    recall  f1-score   support\n",
      "\n",
      "           0       0.74      0.76      0.75        37\n",
      "           1       0.79      0.77      0.78        43\n",
      "\n",
      "    accuracy                           0.76        80\n",
      "   macro avg       0.76      0.76      0.76        80\n",
      "weighted avg       0.76      0.76      0.76        80\n",
      "\n",
      "              precision    recall  f1-score   support\n",
      "\n",
      "           0       0.67      0.81      0.73        37\n",
      "           1       0.80      0.65      0.72        43\n",
      "\n",
      "    accuracy                           0.73        80\n",
      "   macro avg       0.73      0.73      0.72        80\n",
      "weighted avg       0.74      0.72      0.72        80\n",
      "\n"
     ]
    }
   ],
   "source": [
    "dataframe_simple = pandas.read_csv(\"/home/smohan/SAIL-ON/hydra/data/science_birds/novelty_detection/ensemble_learning_simple_levels.csv\")\n",
    "\n",
    "\n",
    "X_simple = dataframe_simple[feature_cols]\n",
    "y_simple = dataframe_simple['ColumnName.GROUND_TRUTH']\n",
    "X_train_simple,X_test_simple,y_train_simple,y_test_simple=train_test_split(X_simple,y_simple,test_size=0.20)\n",
    "\n",
    "\n",
    "logreg_simple = LogisticRegression()\n",
    "logreg_simple.fit(X_train_simple,y_train_simple)\n",
    "y_pred_simple_log=logreg_simple.predict(X_test_simple)\n",
    "report_simple_log = classification_report(y_test_simple, y_pred_simple_log)\n",
    "print(report_simple_log)\n",
    "\n",
    "rf_simple = RandomForestClassifier(n_estimators=20)\n",
    "rf_simple.fit(X_train_simple,y_train_simple)\n",
    "y_pred_simple_rf=rf_simple.predict(X_test_simple)\n",
    "report_simple_rf = classification_report(y_test_simple, y_pred_simple_rf)\n",
    "print(report_simple_rf)\n",
    "\n",
    "ab_simple = AdaBoostClassifier(n_estimators=20)\n",
    "ab_simple.fit(X_train_simple,y_train_simple)\n",
    "y_pred_simple_ab=ab_simple.predict(X_test_simple)\n",
    "report_simple_ab = classification_report(y_test_simple, y_pred_simple_ab)\n",
    "print(report_simple_ab)"
   ]
  },
  {
   "cell_type": "code",
   "execution_count": 38,
   "metadata": {
    "pycharm": {
     "name": "#%%\n"
    }
   },
   "outputs": [
    {
     "name": "stdout",
     "output_type": "stream",
     "text": [
      "              precision    recall  f1-score   support\n",
      "\n",
      "           0       0.52      1.00      0.69        37\n",
      "           1       1.00      0.21      0.35        43\n",
      "\n",
      "    accuracy                           0.57        80\n",
      "   macro avg       0.76      0.60      0.52        80\n",
      "weighted avg       0.78      0.57      0.50        80\n",
      "\n",
      "              precision    recall  f1-score   support\n",
      "\n",
      "           0       0.64      1.00      0.78       163\n",
      "           1       1.00      0.43      0.60       157\n",
      "\n",
      "    accuracy                           0.72       320\n",
      "   macro avg       0.82      0.71      0.69       320\n",
      "weighted avg       0.82      0.72      0.69       320\n",
      "\n",
      "              precision    recall  f1-score   support\n",
      "\n",
      "           0       1.00      0.94      0.97       163\n",
      "           1       0.95      1.00      0.97       157\n",
      "\n",
      "    accuracy                           0.97       320\n",
      "   macro avg       0.97      0.97      0.97       320\n",
      "weighted avg       0.97      0.97      0.97       320\n",
      "\n"
     ]
    }
   ],
   "source": [
    "threshold = 0.95\n",
    "\n",
    "predicted = rf_simple.predict_proba(X_test_simple)\n",
    "high_test =  (predicted[:,1] >= threshold).astype('int')\n",
    "\n",
    "predicted_train =  rf_simple.predict_proba(X_train_simple)\n",
    "high_train = (predicted_train[:,1] >= threshold).astype('int')\n",
    "\n",
    "\n",
    "report_simple_rf = classification_report(y_test_simple,high_test)\n",
    "print(report_simple_rf)\n",
    "\n",
    "report_train_high = classification_report(y_train_simple, high_train)\n",
    "print(report_train_high)\n",
    "\n",
    "print(classification_report(y_train_simple, rf_simple.predict(X_train_simple)))"
   ]
  },
  {
   "cell_type": "markdown",
   "metadata": {},
   "source": [
    "#### May 2022"
   ]
  },
  {
   "cell_type": "code",
   "execution_count": null,
   "outputs": [],
   "source": [
    "dataframe = pandas.read_csv(\"/home/smohan/SAIL-ON/hydra/data/science_birds/novelty_detection/dataset_May2022/ensemble_learning_simple_levels_may2022.csv\")\n",
    "# feature_cols=['ColumnName.NUM_OBJECTS',\n",
    "#     'ColumnName.HAS_NOVEL_OBJECT',\n",
    "#  'ColumnName.MAX_REWARD_DIFFERENCE',\n",
    "#  'ColumnName.AVG_REWARD_DIFFERENCE',\n",
    "#  'ColumnName.MAX_PDDL_INCONSISTENCY',\n",
    "#  'ColumnName.AVG_PDDL_INCONSISTENCY',\n",
    "# 'ColumnName.PASS']\n",
    "\n",
    "feature_cols=[\n",
    "  'ColumnName.HAS_NOVEL_OBJECT'\n",
    " #'ColumnName.MAX_REWARD_DIFFERENCE',\n",
    " 'ColumnName.AVG_REWARD_DIFFERENCE',\n",
    " #'ColumnName.MAX_PDDL_INCONSISTENCY',\n",
    " 'ColumnName.AVG_PDDL_INCONSISTENCY',\n",
    " 'ColumnName.PASS']\n",
    "\n"
   ],
   "metadata": {
    "collapsed": false,
    "pycharm": {
     "name": "#%%\n"
    }
   }
  },
  {
   "cell_type": "code",
   "execution_count": null,
   "outputs": [],
   "source": [
    "dataframe.dtypes"
   ],
   "metadata": {
    "collapsed": false,
    "pycharm": {
     "name": "#%%\n"
    }
   }
  },
  {
   "cell_type": "code",
   "execution_count": null,
   "outputs": [],
   "source": [
    "ax=seaborn.barplot(x='ColumnName.LEVEL_TYPE', y='ColumnName.PASS', data=dataframe)\n",
    "ax.set_xticklabels(ax.get_xticklabels(),rotation = 90)"
   ],
   "metadata": {
    "collapsed": false,
    "pycharm": {
     "name": "#%%\n"
    }
   }
  },
  {
   "cell_type": "code",
   "execution_count": null,
   "outputs": [],
   "source": [
    "seaborn.barplot(x='ColumnName.GROUND_TRUTH', y='ColumnName.PASS', data=dataframe)"
   ],
   "metadata": {
    "collapsed": false,
    "pycharm": {
     "name": "#%%\n"
    }
   }
  },
  {
   "cell_type": "code",
   "execution_count": null,
   "outputs": [],
   "source": [
    "seaborn.barplot(x='ColumnName.GROUND_TRUTH', y='ColumnName.HAS_NOVEL_OBJECT', data=dataframe)"
   ],
   "metadata": {
    "collapsed": false,
    "pycharm": {
     "name": "#%%\n"
    }
   }
  },
  {
   "cell_type": "code",
   "execution_count": null,
   "outputs": [],
   "source": [
    "seaborn.boxplot(x='ColumnName.GROUND_TRUTH', y='ColumnName.AVG_REWARD_DIFFERENCE', data=dataframe)"
   ],
   "metadata": {
    "collapsed": false,
    "pycharm": {
     "name": "#%%\n"
    }
   }
  },
  {
   "cell_type": "code",
   "execution_count": null,
   "outputs": [],
   "source": [
    "seaborn.boxplot(x='ColumnName.GROUND_TRUTH', y='ColumnName.MAX_REWARD_DIFFERENCE', data=dataframe)"
   ],
   "metadata": {
    "collapsed": false,
    "pycharm": {
     "name": "#%%\n"
    }
   }
  },
  {
   "cell_type": "code",
   "execution_count": null,
   "outputs": [],
   "source": [
    "seaborn.boxplot(x='ColumnName.GROUND_TRUTH', y='ColumnName.MAX_PDDL_INCONSISTENCY', data=dataframe)"
   ],
   "metadata": {
    "collapsed": false,
    "pycharm": {
     "name": "#%%\n"
    }
   }
  },
  {
   "cell_type": "code",
   "execution_count": null,
   "outputs": [],
   "source": [],
   "metadata": {
    "collapsed": false,
    "pycharm": {
     "name": "#%%\n"
    }
   }
  },
  {
   "cell_type": "code",
   "execution_count": null,
   "outputs": [],
   "source": [
    "seaborn.boxplot(x='ColumnName.GROUND_TRUTH', y='ColumnName.AVG_PDDL_INCONSISTENCY', data=dataframe)"
   ],
   "metadata": {
    "collapsed": false,
    "pycharm": {
     "name": "#%%\n"
    }
   }
  },
  {
   "cell_type": "code",
   "execution_count": null,
   "outputs": [],
   "source": [
    "seaborn.boxplot(x='ColumnName.GROUND_TRUTH', y='ColumnName.AVG_PDDL_INCONSISTENCY', hue='ColumnName.PASS', data=dataframe)"
   ],
   "metadata": {
    "collapsed": false,
    "pycharm": {
     "name": "#%%\n"
    }
   }
  },
  {
   "cell_type": "code",
   "execution_count": null,
   "outputs": [],
   "source": [
    "seaborn.boxplot(x='ColumnName.GROUND_TRUTH', y='ColumnName.MAX_PDDL_INCONSISTENCY', hue='ColumnName.PASS', data=dataframe)"
   ],
   "metadata": {
    "collapsed": false,
    "pycharm": {
     "name": "#%%\n"
    }
   }
  },
  {
   "cell_type": "code",
   "execution_count": null,
   "outputs": [],
   "source": [
    "seaborn.boxplot(x='ColumnName.GROUND_TRUTH', y='ColumnName.MAX_REWARD_DIFFERENCE', hue='ColumnName.PASS', data=dataframe)"
   ],
   "metadata": {
    "collapsed": false,
    "pycharm": {
     "name": "#%%\n"
    }
   }
  },
  {
   "cell_type": "code",
   "execution_count": null,
   "outputs": [],
   "source": [
    "seaborn.boxplot(x='ColumnName.GROUND_TRUTH', y='ColumnName.AVG_REWARD_DIFFERENCE', hue='ColumnName.PASS', data=dataframe)"
   ],
   "metadata": {
    "collapsed": false,
    "pycharm": {
     "name": "#%%\n"
    }
   }
  },
  {
   "cell_type": "code",
   "execution_count": null,
   "metadata": {},
   "outputs": [],
   "source": []
  },
  {
   "cell_type": "code",
   "execution_count": 76,
   "metadata": {},
   "outputs": [
    {
     "data": {
      "text/plain": [
       "<matplotlib.axes._subplots.AxesSubplot at 0x7f8ca7192c50>"
      ]
     },
     "execution_count": 76,
     "metadata": {},
     "output_type": "execute_result"
    },
    {
     "data": {
      "image/png": "[encoded data removed]",
      "text/plain": [
       "<Figure size 432x288 with 1 Axes>"
      ]
     },
     "metadata": {
      "needs_background": "light"
     },
     "output_type": "display_data"
    }
   ],
   "source": [
    "seaborn.boxplot(x='ColumnName.GROUND_TRUTH', y='ColumnName.AVG_PDDL_INCONSISTENCY', data=dataframe)"
   ]
  },
  {
   "cell_type": "code",
   "execution_count": 96,
   "metadata": {},
   "outputs": [
    {
     "data": {
      "text/plain": [
       "<matplotlib.axes._subplots.AxesSubplot at 0x7f8ca4d64bd0>"
      ]
     },
     "execution_count": 96,
     "metadata": {},
     "output_type": "execute_result"
    },
    {
     "data": {
      "image/png": "[encoded data removed]",
      "text/plain": [
       "<Figure size 432x288 with 1 Axes>"
      ]
     },
     "metadata": {
      "needs_background": "light"
     },
     "output_type": "display_data"
    }
   ],
   "source": [
    "seaborn.boxplot(x='ColumnName.GROUND_TRUTH', y='ColumnName.AVG_PDDL_INCONSISTENCY', hue='ColumnName.PASS', data=dataframe)"
   ]
  },
  {
   "cell_type": "code",
   "execution_count": 97,
   "metadata": {},
   "outputs": [
    {
     "data": {
      "text/plain": [
       "<matplotlib.axes._subplots.AxesSubplot at 0x7f8ca4c7c650>"
      ]
     },
     "execution_count": 97,
     "metadata": {},
     "output_type": "execute_result"
    },
    {
     "data": {
      "image/png": "[encoded data removed]",
      "text/plain": [
       "<Figure size 432x288 with 1 Axes>"
      ]
     },
     "metadata": {
      "needs_background": "light"
     },
     "output_type": "display_data"
    }
   ],
   "source": [
    "seaborn.boxplot(x='ColumnName.GROUND_TRUTH', y='ColumnName.MAX_PDDL_INCONSISTENCY', hue='ColumnName.PASS', data=dataframe)"
   ]
  },
  {
   "cell_type": "code",
   "execution_count": 94,
   "metadata": {},
   "outputs": [
    {
     "data": {
      "text/plain": [
       "<matplotlib.axes._subplots.AxesSubplot at 0x7f8ca4e26190>"
      ]
     },
     "execution_count": 94,
     "metadata": {},
     "output_type": "execute_result"
    },
    {
     "data": {
      "image/png": "[encoded data removed]",
      "text/plain": [
       "<Figure size 432x288 with 1 Axes>"
      ]
     },
     "metadata": {
      "needs_background": "light"
     },
     "output_type": "display_data"
    }
   ],
   "source": [
    "seaborn.boxplot(x='ColumnName.GROUND_TRUTH', y='ColumnName.MAX_REWARD_DIFFERENCE', hue='ColumnName.PASS', data=dataframe)"
   ]
  },
  {
   "cell_type": "code",
   "execution_count": 93,
   "metadata": {},
   "outputs": [
    {
     "data": {
      "text/plain": [
       "<matplotlib.axes._subplots.AxesSubplot at 0x7f8ca4ee25d0>"
      ]
     },
     "execution_count": 93,
     "metadata": {},
     "output_type": "execute_result"
    },
    {
     "data": {
      "image/png": "[encoded data removed]",
      "text/plain": [
       "<Figure size 432x288 with 1 Axes>"
      ]
     },
     "metadata": {
      "needs_background": "light"
     },
     "output_type": "display_data"
    }
   ],
   "source": [
    "seaborn.boxplot(x='ColumnName.GROUND_TRUTH', y='ColumnName.AVG_REWARD_DIFFERENCE', hue='ColumnName.PASS', data=dataframe)"
   ]
  },
  {
   "cell_type": "code",
   "execution_count": 68,
   "metadata": {},
   "outputs": [],
   "source": [
    "X2 = dataframe[feature_cols]\n",
    "y2 = dataframe['ColumnName.GROUND_TRUTH']\n",
    "X_train2,X_test2,y_train2,y_test2=train_test_split(X2,y2,test_size=0.10)"
   ]
  },
  {
   "cell_type": "code",
   "execution_count": 103,
   "metadata": {
    "pycharm": {
     "name": "#%%\n"
    }
   },
   "outputs": [
    {
     "name": "stdout",
     "output_type": "stream",
     "text": [
      "              precision    recall  f1-score   support\n",
      "\n",
      "           0       0.85      0.94      0.89        47\n",
      "           1       0.62      0.38      0.48        13\n",
      "\n",
      "    accuracy                           0.82        60\n",
      "   macro avg       0.74      0.66      0.68        60\n",
      "weighted avg       0.80      0.82      0.80        60\n",
      "\n",
      "              precision    recall  f1-score   support\n",
      "\n",
      "           0       0.82      1.00      0.90        47\n",
      "           1       1.00      0.23      0.38        13\n",
      "\n",
      "    accuracy                           0.83        60\n",
      "   macro avg       0.91      0.62      0.64        60\n",
      "weighted avg       0.86      0.83      0.79        60\n",
      "\n"
     ]
    }
   ],
   "source": [
    "rf2 = RandomForestClassifier(n_estimators=20)\n",
    "rf2.fit(X_train2,y_train2)\n",
    "y_pred2_rf=rf2.predict(X_test2)\n",
    "report2_rf = classification_report(y_test2, y_pred2_rf)\n",
    "print(report2_rf)\n",
    "\n",
    "\n",
    "threshold=0.95\n",
    "predicted = rf2.predict_proba(X_test2)\n",
    "high_test2 =  (predicted[:,1] >= threshold).astype('int')\n",
    "report_high_rf = classification_report(y_test2,high_test2)\n",
    "print(report_high_rf)"
   ]
  },
  {
   "cell_type": "code",
   "execution_count": 99,
   "metadata": {},
   "outputs": [
    {
     "name": "stdout",
     "output_type": "stream",
     "text": [
      "              precision    recall  f1-score   support\n",
      "\n",
      "           0       0.80      1.00      0.89        47\n",
      "           1       1.00      0.08      0.14        13\n",
      "\n",
      "    accuracy                           0.80        60\n",
      "   macro avg       0.90      0.54      0.51        60\n",
      "weighted avg       0.84      0.80      0.73        60\n",
      "\n"
     ]
    },
    {
     "name": "stderr",
     "output_type": "stream",
     "text": [
      "/home/smohan/anaconda3/envs/hydra/lib/python3.7/site-packages/sklearn/linear_model/_logistic.py:818: ConvergenceWarning: lbfgs failed to converge (status=1):\n",
      "STOP: TOTAL NO. of ITERATIONS REACHED LIMIT.\n",
      "\n",
      "Increase the number of iterations (max_iter) or scale the data as shown in:\n",
      "    https://scikit-learn.org/stable/modules/preprocessing.html\n",
      "Please also refer to the documentation for alternative solver options:\n",
      "    https://scikit-learn.org/stable/modules/linear_model.html#logistic-regression\n",
      "  extra_warning_msg=_LOGISTIC_SOLVER_CONVERGENCE_MSG,\n"
     ]
    }
   ],
   "source": [
    "logreg2 = LogisticRegression()\n",
    "logreg2.fit(X_train2,y_train2)\n",
    "y_pred2_log=logreg2.predict(X_test2)\n",
    "report2_log = classification_report(y_test2, y_pred2_log)\n",
    "print(report2_log)"
   ]
  },
  {
   "cell_type": "code",
   "execution_count": null,
   "metadata": {},
   "outputs": [],
   "source": []
  }
 ],
 "metadata": {
  "kernelspec": {
   "display_name": "PyCharm (hydra)",
   "language": "python",
   "name": "pycharm-6c06e183"
  },
  "language_info": {
   "codemirror_mode": {
    "name": "ipython",
    "version": 3
   },
   "file_extension": ".py",
   "mimetype": "text/x-python",
   "name": "python",
   "nbconvert_exporter": "python",
   "pygments_lexer": "ipython3",
   "version": "3.7.11"
  }
 },
 "nbformat": 4,
 "nbformat_minor": 1
}
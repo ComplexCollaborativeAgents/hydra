{
 "cells": [
  {
   "cell_type": "code",
   "execution_count": 3,
   "metadata": {
    "pycharm": {
     "name": "#%%\n"
    }
   },
   "outputs": [],
   "source": [
    "import pandas\n",
    "import numpy\n",
    "import matplotlib.pyplot as plt\n",
    "from utils.learn_novelty_detection_ensemble import ColumnName\n",
    "from sklearn.linear_model import LogisticRegression\n",
    "from sklearn.model_selection import train_test_split\n",
    "from sklearn.metrics import classification_report, confusion_matrix\n",
    "from sklearn.ensemble import RandomForestClassifier, RandomForestRegressor\n",
    "from sklearn.ensemble import AdaBoostClassifier"
   ]
  },
  {
   "cell_type": "code",
   "execution_count": 5,
   "metadata": {},
   "outputs": [],
   "source": [
    "dataframe_full = pandas.read_csv(\"/home/smohan/SAIL-ON/hydra/data/science_birds/novelty_detection/ensemble_learning_all_levels.csv\")\n",
    "# feature_cols=['ColumnName.NUM_OBJECTS',\n",
    "#     'ColumnName.HAS_NOVEL_OBJECT',\n",
    "#  'ColumnName.MAX_REWARD_DIFFERENCE',\n",
    "#  'ColumnName.AVG_REWARD_DIFFERENCE',\n",
    "#  'ColumnName.MAX_PDDL_INCONSISTENCY',\n",
    "#  'ColumnName.AVG_PDDL_INCONSISTENCY']\n",
    "\n",
    "feature_cols=['ColumnName.HAS_NOVEL_OBJECT',\n",
    " 'ColumnName.MAX_REWARD_DIFFERENCE',\n",
    " 'ColumnName.AVG_REWARD_DIFFERENCE',\n",
    " 'ColumnName.MAX_PDDL_INCONSISTENCY',\n",
    " 'ColumnName.AVG_PDDL_INCONSISTENCY']\n",
    "\n",
    "\n",
    "dataframe_non_novelty = dataframe_full[dataframe_full['ColumnName.LEVEL'] == 0]\n",
    "dataframe_phaseI_novelty = dataframe_full[(dataframe_full['ColumnName.LEVEL'] < 10) & (dataframe_full['ColumnName.LEVEL'] > 0)]\n",
    "dataframe_phaseII_novelty = dataframe_full[dataframe_full['ColumnName.LEVEL'] > 10]\n",
    "\n"
   ]
  },
  {
   "cell_type": "code",
   "execution_count": 57,
   "metadata": {},
   "outputs": [
    {
     "name": "stdout",
     "output_type": "stream",
     "text": [
      "              precision    recall  f1-score   support\n",
      "\n",
      "           0       0.75      0.12      0.21        48\n",
      "           1       0.64      0.97      0.77        77\n",
      "\n",
      "    accuracy                           0.65       125\n",
      "   macro avg       0.70      0.55      0.49       125\n",
      "weighted avg       0.68      0.65      0.56       125\n",
      "\n",
      "              precision    recall  f1-score   support\n",
      "\n",
      "           0       0.60      0.73      0.66        48\n",
      "           1       0.81      0.70      0.75        77\n",
      "\n",
      "    accuracy                           0.71       125\n",
      "   macro avg       0.70      0.72      0.71       125\n",
      "weighted avg       0.73      0.71      0.72       125\n",
      "\n",
      "              precision    recall  f1-score   support\n",
      "\n",
      "           0       0.58      0.65      0.61        48\n",
      "           1       0.76      0.71      0.74        77\n",
      "\n",
      "    accuracy                           0.69       125\n",
      "   macro avg       0.67      0.68      0.68       125\n",
      "weighted avg       0.70      0.69      0.69       125\n",
      "\n"
     ]
    }
   ],
   "source": [
    "X2 = dataframe_full[feature_cols]\n",
    "y2 = dataframe_full['ColumnName.GROUND_TRUTH']\n",
    "X_train2,X_test2,y_train2,y_test2=train_test_split(X2,y2,test_size=0.10)\n",
    "\n",
    "\n",
    "logreg2 = LogisticRegression()\n",
    "logreg2.fit(X_train2,y_train2)\n",
    "y_pred2_log=logreg2.predict(X_test2)\n",
    "report2_log = classification_report(y_test2, y_pred2_log)\n",
    "print(report2_log)\n",
    "\n",
    "rf2 = RandomForestClassifier(n_estimators=20)\n",
    "rf2.fit(X_train2,y_train2)\n",
    "y_pred2_rf=rf2.predict(X_test2)\n",
    "report2_rf = classification_report(y_test2, y_pred2_rf)\n",
    "print(report2_rf)\n",
    "\n",
    "ab2 = AdaBoostClassifier(n_estimators=100)\n",
    "ab2.fit(X_train2,y_train2)\n",
    "y_pred2_ab=ab2.predict(X_test2)\n",
    "report2_ab = classification_report(y_test2, y_pred2_ab)\n",
    "print(report2_ab)"
   ]
  },
  {
   "cell_type": "code",
   "execution_count": null,
   "metadata": {},
   "outputs": [],
   "source": []
  },
  {
   "cell_type": "code",
   "execution_count": 58,
   "metadata": {},
   "outputs": [
    {
     "name": "stdout",
     "output_type": "stream",
     "text": [
      "              precision    recall  f1-score   support\n",
      "\n",
      "           0       0.81      0.82      0.82        90\n",
      "           1       0.59      0.57      0.58        40\n",
      "\n",
      "    accuracy                           0.75       130\n",
      "   macro avg       0.70      0.70      0.70       130\n",
      "weighted avg       0.74      0.75      0.75       130\n",
      "\n",
      "              precision    recall  f1-score   support\n",
      "\n",
      "           0       0.84      0.92      0.88        90\n",
      "           1       0.77      0.60      0.68        40\n",
      "\n",
      "    accuracy                           0.82       130\n",
      "   macro avg       0.81      0.76      0.78       130\n",
      "weighted avg       0.82      0.82      0.82       130\n",
      "\n",
      "              precision    recall  f1-score   support\n",
      "\n",
      "           0       0.81      0.90      0.85        90\n",
      "           1       0.70      0.53      0.60        40\n",
      "\n",
      "    accuracy                           0.78       130\n",
      "   macro avg       0.76      0.71      0.73       130\n",
      "weighted avg       0.78      0.78      0.77       130\n",
      "\n"
     ]
    }
   ],
   "source": [
    "dataframe3 = dataframe_non_novelty.append(dataframe_phaseII_novelty, ignore_index=True)\n",
    "X3 = dataframe3[feature_cols]\n",
    "y3 = dataframe3['ColumnName.GROUND_TRUTH']\n",
    "X_train3,X_test3,y_train3,y_test3=train_test_split(X3,y3,test_size=0.20)\n",
    "\n",
    "\n",
    "logreg3 = LogisticRegression()\n",
    "logreg3.fit(X_train3,y_train3)\n",
    "y_pred3_log=logreg3.predict(X_test3)\n",
    "report3_log = classification_report(y_test3, y_pred3_log)\n",
    "print(report3_log)\n",
    "\n",
    "\n",
    "rf3 = RandomForestClassifier(n_estimators=30)\n",
    "rf3.fit(X_train3,y_train3)\n",
    "y_pred3_rf=rf3.predict(X_test3)\n",
    "report3_rf = classification_report(y_test3, y_pred3_rf)\n",
    "print(report3_rf)\n",
    "\n",
    "ab3 = AdaBoostClassifier(n_estimators=100)\n",
    "ab3.fit(X_train3,y_train3)\n",
    "y_pred3_ab=ab3.predict(X_test3)\n",
    "report3_ab = classification_report(y_test3, y_pred3_ab)\n",
    "print(report3_ab)"
   ]
  },
  {
   "cell_type": "code",
   "execution_count": 44,
   "metadata": {},
   "outputs": [],
   "source": [
    "dataframe = pandas.read_csv(\"/home/smohan/SAIL-ON/hydra/data/science_birds/novelty_detection/ensemble_learning_all_levels.csv\")\n",
    "dataframe_phaseII_novelty = dataframe[dataframe['ColumnName.LEVEL'] > 10]\n",
    "dataframe_phaseI_novelty_and_non = dataframe[dataframe['ColumnName.LEVEL'] < 10]\n",
    "df_1 = dataframe_phaseII_novelty.sample(frac = 0.5)\n",
    "df_final_validation = dataframe_phaseII_novelty.drop(df_1.index)"
   ]
  },
  {
   "cell_type": "code",
   "execution_count": 45,
   "metadata": {},
   "outputs": [],
   "source": [
    "dataframe_final_training = dataframe_phaseI_novelty_and_non.append(df_1, ignore_index=True)"
   ]
  },
  {
   "cell_type": "code",
   "execution_count": 46,
   "metadata": {},
   "outputs": [],
   "source": [
    "dataframe_validation = dataframe_phaseII_novelty.sample(frac=0.5)\n",
    "dataframe_remainder = dataframe_phaseII_novelty.drop(dataframe_validation.index)\n",
    "\n",
    "dataframe_final_training = dataframe_non_novelty.append(dataframe_phaseI_novelty, ignore_index=True)\n",
    "dataframe_final_training = dataframe_final_training.append(dataframe_remainder, ignore_index=True)"
   ]
  },
  {
   "cell_type": "code",
   "execution_count": 47,
   "metadata": {},
   "outputs": [
    {
     "name": "stdout",
     "output_type": "stream",
     "text": [
      "              precision    recall  f1-score   support\n",
      "\n",
      "           0       0.62      0.63      0.63        84\n",
      "           1       0.79      0.78      0.78       146\n",
      "\n",
      "    accuracy                           0.73       230\n",
      "   macro avg       0.70      0.71      0.71       230\n",
      "weighted avg       0.73      0.73      0.73       230\n",
      "\n"
     ]
    }
   ],
   "source": [
    "X_final = dataframe_final_training[feature_cols]\n",
    "y_final = dataframe_final_training['ColumnName.GROUND_TRUTH']\n",
    "X_train_f,X_test_f,y_train_f,y_test_f=train_test_split(X_final, y_final,test_size=0.20)\n",
    "rf_final = RandomForestClassifier(n_estimators=20)\n",
    "rf_final.fit(X_train_f,y_train_f)\n",
    "y_pred_f_rf=rf_final.predict(X_test_f)\n",
    "report_f_rf = classification_report(y_test_f, y_pred_f_rf)\n",
    "print(report_f_rf)"
   ]
  },
  {
   "cell_type": "code",
   "execution_count": 19,
   "metadata": {
    "scrolled": true
   },
   "outputs": [
    {
     "name": "stdout",
     "output_type": "stream",
     "text": [
      "              precision    recall  f1-score   support\n",
      "\n",
      "           0       0.00      0.00      0.00         0\n",
      "           1       1.00      0.53      0.69       100\n",
      "\n",
      "    accuracy                           0.53       100\n",
      "   macro avg       0.50      0.27      0.35       100\n",
      "weighted avg       1.00      0.53      0.69       100\n",
      "\n"
     ]
    },
    {
     "name": "stderr",
     "output_type": "stream",
     "text": [
      "/home/smohan/anaconda3/envs/hydra/lib/python3.7/site-packages/sklearn/metrics/_classification.py:1245: UndefinedMetricWarning: Recall and F-score are ill-defined and being set to 0.0 in labels with no true samples. Use `zero_division` parameter to control this behavior.\n",
      "  _warn_prf(average, modifier, msg_start, len(result))\n",
      "/home/smohan/anaconda3/envs/hydra/lib/python3.7/site-packages/sklearn/metrics/_classification.py:1245: UndefinedMetricWarning: Recall and F-score are ill-defined and being set to 0.0 in labels with no true samples. Use `zero_division` parameter to control this behavior.\n",
      "  _warn_prf(average, modifier, msg_start, len(result))\n",
      "/home/smohan/anaconda3/envs/hydra/lib/python3.7/site-packages/sklearn/metrics/_classification.py:1245: UndefinedMetricWarning: Recall and F-score are ill-defined and being set to 0.0 in labels with no true samples. Use `zero_division` parameter to control this behavior.\n",
      "  _warn_prf(average, modifier, msg_start, len(result))\n"
     ]
    }
   ],
   "source": [
    "rf_final_full = RandomForestClassifier(n_estimators=20)\n",
    "rf_final_full.fit(X_final, y_final)\n",
    "\n",
    "X_validation = dataframe_validation[feature_cols]\n",
    "y_validation = dataframe_validation['ColumnName.GROUND_TRUTH']\n",
    "y_pred_validation = rf_final_full.predict(X_validation)\n",
    "report_validation = classification_report(y_validation, y_pred_validation)\n",
    "print(report_validation)"
   ]
  },
  {
   "cell_type": "code",
   "execution_count": 48,
   "metadata": {},
   "outputs": [
    {
     "data": {
      "image/png": "[encoded data removed]",
      "text/plain": [
       "<Figure size 432x288 with 1 Axes>"
      ]
     },
     "metadata": {
      "needs_background": "light"
     },
     "output_type": "display_data"
    }
   ],
   "source": [
    "importances = rf3.feature_importances_\n",
    "forest_importances = pandas.Series(importances, index=feature_cols)\n",
    "std = numpy.std([tree.feature_importances_ for tree in rf3.estimators_], axis=0)\n",
    "fig, ax = plt.subplots()\n",
    "forest_importances.plot.bar(yerr=std, ax=ax)\n",
    "ax.set_title(\"Feature importances using MDI\")\n",
    "#ax.set_ylabel(\"Mean decrease in impurity\")\n",
    "fig.tight_layout()"
   ]
  },
  {
   "cell_type": "code",
   "execution_count": 59,
   "metadata": {},
   "outputs": [],
   "source": [
    "import pickle\n",
    "with open('/home/smohan/SAIL-ON/hydra/model/ensemble.pkl', 'wb') as f:\n",
    "    pickle.dump(rf3, f)"
   ]
  },
  {
   "cell_type": "code",
   "execution_count": 24,
   "metadata": {},
   "outputs": [
    {
     "name": "stdout",
     "output_type": "stream",
     "text": [
      "              precision    recall  f1-score   support\n",
      "\n",
      "           0       0.74      0.70      0.72        37\n",
      "           1       0.76      0.79      0.77        43\n",
      "\n",
      "    accuracy                           0.75        80\n",
      "   macro avg       0.75      0.75      0.75        80\n",
      "weighted avg       0.75      0.75      0.75        80\n",
      "\n",
      "              precision    recall  f1-score   support\n",
      "\n",
      "           0       0.74      0.76      0.75        37\n",
      "           1       0.79      0.77      0.78        43\n",
      "\n",
      "    accuracy                           0.76        80\n",
      "   macro avg       0.76      0.76      0.76        80\n",
      "weighted avg       0.76      0.76      0.76        80\n",
      "\n",
      "              precision    recall  f1-score   support\n",
      "\n",
      "           0       0.67      0.81      0.73        37\n",
      "           1       0.80      0.65      0.72        43\n",
      "\n",
      "    accuracy                           0.73        80\n",
      "   macro avg       0.73      0.73      0.72        80\n",
      "weighted avg       0.74      0.72      0.72        80\n",
      "\n"
     ]
    }
   ],
   "source": [
    "dataframe_simple = pandas.read_csv(\"/home/smohan/SAIL-ON/hydra/data/science_birds/novelty_detection/ensemble_learning_simple_levels.csv\")\n",
    "\n",
    "\n",
    "X_simple = dataframe_simple[feature_cols]\n",
    "y_simple = dataframe_simple['ColumnName.GROUND_TRUTH']\n",
    "X_train_simple,X_test_simple,y_train_simple,y_test_simple=train_test_split(X_simple,y_simple,test_size=0.20)\n",
    "\n",
    "\n",
    "logreg_simple = LogisticRegression()\n",
    "logreg_simple.fit(X_train_simple,y_train_simple)\n",
    "y_pred_simple_log=logreg_simple.predict(X_test_simple)\n",
    "report_simple_log = classification_report(y_test_simple, y_pred_simple_log)\n",
    "print(report_simple_log)\n",
    "\n",
    "rf_simple = RandomForestClassifier(n_estimators=20)\n",
    "rf_simple.fit(X_train_simple,y_train_simple)\n",
    "y_pred_simple_rf=rf_simple.predict(X_test_simple)\n",
    "report_simple_rf = classification_report(y_test_simple, y_pred_simple_rf)\n",
    "print(report_simple_rf)\n",
    "\n",
    "ab_simple = AdaBoostClassifier(n_estimators=20)\n",
    "ab_simple.fit(X_train_simple,y_train_simple)\n",
    "y_pred_simple_ab=ab_simple.predict(X_test_simple)\n",
    "report_simple_ab = classification_report(y_test_simple, y_pred_simple_ab)\n",
    "print(report_simple_ab)"
   ]
  },
  {
   "cell_type": "code",
   "execution_count": 38,
   "metadata": {},
   "outputs": [
    {
     "name": "stdout",
     "output_type": "stream",
     "text": [
      "              precision    recall  f1-score   support\n",
      "\n",
      "           0       0.52      1.00      0.69        37\n",
      "           1       1.00      0.21      0.35        43\n",
      "\n",
      "    accuracy                           0.57        80\n",
      "   macro avg       0.76      0.60      0.52        80\n",
      "weighted avg       0.78      0.57      0.50        80\n",
      "\n",
      "              precision    recall  f1-score   support\n",
      "\n",
      "           0       0.64      1.00      0.78       163\n",
      "           1       1.00      0.43      0.60       157\n",
      "\n",
      "    accuracy                           0.72       320\n",
      "   macro avg       0.82      0.71      0.69       320\n",
      "weighted avg       0.82      0.72      0.69       320\n",
      "\n",
      "              precision    recall  f1-score   support\n",
      "\n",
      "           0       1.00      0.94      0.97       163\n",
      "           1       0.95      1.00      0.97       157\n",
      "\n",
      "    accuracy                           0.97       320\n",
      "   macro avg       0.97      0.97      0.97       320\n",
      "weighted avg       0.97      0.97      0.97       320\n",
      "\n"
     ]
    }
   ],
   "source": [
    "threshold = 0.95\n",
    "\n",
    "predicted = rf_simple.predict_proba(X_test_simple)\n",
    "high_test =  (predicted[:,1] >= threshold).astype('int')\n",
    "\n",
    "predicted_train =  rf_simple.predict_proba(X_train_simple)\n",
    "high_train = (predicted_train[:,1] >= threshold).astype('int')\n",
    "\n",
    "\n",
    "report_simple_rf = classification_report(y_test_simple,high_test)\n",
    "print(report_simple_rf)\n",
    "\n",
    "report_train_high = classification_report(y_train_simple, high_train)\n",
    "print(report_train_high)\n",
    "\n",
    "print(classification_report(y_train_simple, rf_simple.predict(X_train_simple)))"
   ]
  },
  {
   "cell_type": "code",
   "execution_count": null,
   "metadata": {},
   "outputs": [],
   "source": []
  }
 ],
 "metadata": {
  "kernelspec": {
   "display_name": "PyCharm (hydra)",
   "language": "python",
   "name": "pycharm-6c06e183"
  },
  "language_info": {
   "codemirror_mode": {
    "name": "ipython",
    "version": 3
   },
   "file_extension": ".py",
   "mimetype": "text/x-python",
   "name": "python",
   "nbconvert_exporter": "python",
   "pygments_lexer": "ipython3",
   "version": "3.7.10"
  }
 },
 "nbformat": 4,
 "nbformat_minor": 1
}